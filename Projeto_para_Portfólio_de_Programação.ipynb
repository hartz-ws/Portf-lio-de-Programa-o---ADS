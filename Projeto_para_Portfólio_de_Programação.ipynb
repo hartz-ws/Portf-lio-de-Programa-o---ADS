{
  "cells": [
    {
      "cell_type": "markdown",
      "metadata": {
        "id": "view-in-github",
        "colab_type": "text"
      },
      "source": [
        "<a href=\"https://colab.research.google.com/github/hartz-ws/Portf-lio-de-Programa-o---ADS/blob/main/Projeto_para_Portf%C3%B3lio_de_Programa%C3%A7%C3%A3o.ipynb\" target=\"_parent\"><img src=\"https://colab.research.google.com/assets/colab-badge.svg\" alt=\"Open In Colab\"/></a>"
      ]
    },
    {
      "cell_type": "code",
      "source": [
        "## This portfolio covers the content studied in the Programming Languages ​​Discipline.\n",
        "## It will contain some of my applied projects based on the activities developed in the discipline, made with library functions, data frames, sqlite3, data structures and others.\n",
        "## I hope you like it!\n",
        "\n",
        "# Lista de filmes para classificação\n",
        "filmes = [\"Era uma vez em Hollywood\", \"O Grande Gatsby\", \"O Protetor\", \"Dia de Treinamento\", \"Cães de Guerra\"]\n",
        "classificacoes = {}\n",
        "\n",
        "def classificar_filmes(filmes):\n",
        "    print(\"Bem-vindo à Classificação de Filmes!\")\n",
        "    print(\"Aqui você tem até 5 filmes para classificar!\")\n",
        "    print(\"Digite 0 a qualquer momento para parar.\\n\")\n",
        "\n",
        "    for filme in filmes:\n",
        "        classificacao = input(f\"Como você classificaria '{filme}' de 1 a 5? (ou 0 para parar): \")\n",
        "\n",
        "        if classificacao == \"0\":\n",
        "            print(\"Que pena! Agradecemos a sua atenção!\")\n",
        "            break\n",
        "\n",
        "        classificacao = int(classificacao)\n",
        "\n",
        "        if classificacao < 1 or classificacao > 5:\n",
        "            print(\"Classificação inválida. Por favor, digite um número de 1 a 5.\")\n",
        "        else:\n",
        "            classificacoes[filme] = classificacao\n",
        "            print(f\"Você classificou '{filme}' como {classificacao} estrelas.\\n\")\n",
        "\n",
        "    print(\"Obrigado por avaliar nossos filmes! Aqui estão suas classificações:\")\n",
        "    for filme, nota in classificacoes.items():\n",
        "        print(f\"'{filme}': {nota} estrelas\")\n",
        "    print(\"Até a próxima!\")\n",
        "\n",
        "# Chama a função\n",
        "classificar_filmes(filmes)"
      ],
      "metadata": {
        "id": "YJ4CJMTkXFbK",
        "colab": {
          "base_uri": "https://localhost:8080/"
        },
        "outputId": "1f884e3b-989b-4f5b-cd05-b81acfd7cf5b"
      },
      "execution_count": null,
      "outputs": [
        {
          "output_type": "stream",
          "name": "stdout",
          "text": [
            "Bem-vindo à Classificação de Filmes!\n",
            "Aqui você tem até 5 filmes para classificar!\n",
            "Digite 0 a qualquer momento para parar.\n",
            "\n",
            "Como você classificaria 'Era uma vez em Hollywood' de 1 a 5? (ou 0 para parar): 5\n",
            "Você classificou 'Era uma vez em Hollywood' como 5 estrelas.\n",
            "\n",
            "Como você classificaria 'O Grande Gatsby' de 1 a 5? (ou 0 para parar): 5\n",
            "Você classificou 'O Grande Gatsby' como 5 estrelas.\n",
            "\n",
            "Como você classificaria 'O Protetor' de 1 a 5? (ou 0 para parar): 5\n",
            "Você classificou 'O Protetor' como 5 estrelas.\n",
            "\n",
            "Como você classificaria 'Dia de Treinamento' de 1 a 5? (ou 0 para parar): 5\n",
            "Você classificou 'Dia de Treinamento' como 5 estrelas.\n",
            "\n",
            "Como você classificaria 'Cães de Guerra' de 1 a 5? (ou 0 para parar): 5\n",
            "Você classificou 'Cães de Guerra' como 5 estrelas.\n",
            "\n",
            "Obrigado por avaliar nossos filmes! Aqui estão suas classificações:\n",
            "'Era uma vez em Hollywood': 5 estrelas\n",
            "'O Grande Gatsby': 5 estrelas\n",
            "'O Protetor': 5 estrelas\n",
            "'Dia de Treinamento': 5 estrelas\n",
            "'Cães de Guerra': 5 estrelas\n",
            "Até a próxima!\n"
          ]
        }
      ]
    },
    {
      "cell_type": "markdown",
      "metadata": {
        "id": "OwuxHmxllTwN"
      },
      "source": [
        "<div class=\"markdown-google-sans\">\n",
        "\n",
        "## Machine learning\n",
        "</div>\n",
        "\n",
        "Com o Colab, é possível importar um conjunto de dados de imagem, treinar um classificador de imagens dentro dele e avaliar o modelo, tudo com apenas <a href=\"https://colab.research.google.com/github/tensorflow/docs/blob/master/site/en/tutorials/quickstart/beginner.ipynb\">algumas linhas de código</a>. Os notebooks do Colab executam código dos servidores em nuvem do Google. Isso significa que você pode tirar proveito da potência de hardware do Google, como <a href=\"#using-accelerated-hardware\">GPUs e TPUs</a>, independentemente da potência da sua máquina. Você só precisa de um navegador."
      ]
    }
  ],
  "metadata": {
    "colab": {
      "toc_visible": true,
      "provenance": [],
      "include_colab_link": true
    },
    "kernelspec": {
      "display_name": "Python 3",
      "name": "python3"
    }
  },
  "nbformat": 4,
  "nbformat_minor": 0
}