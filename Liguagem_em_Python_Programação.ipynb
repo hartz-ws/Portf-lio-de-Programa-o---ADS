{
  "cells": [
    {
      "cell_type": "markdown",
      "metadata": {
        "id": "view-in-github",
        "colab_type": "text"
      },
      "source": [
        "<a href=\"https://colab.research.google.com/github/hartz-ws/Portf-lio-de-Programa-o---ADS/blob/main/Liguagem_em_Python_Programa%C3%A7%C3%A3o.ipynb\" target=\"_parent\"><img src=\"https://colab.research.google.com/assets/colab-badge.svg\" alt=\"Open In Colab\"/></a>"
      ]
    },
    {
      "cell_type": "code",
      "source": [
        "# Atividade Teleaula 1 (Exercício 01)\n",
        "\n",
        "salário = float(input(\"Digite o salário do colaborador:\"))\n",
        "if salário <= 280:\n",
        "  percentual = 20\n",
        "elif salário <= 700:\n",
        "  percentual = 15\n",
        "elif salário <= 1500:\n",
        "  percentual = 10\n",
        "else:\n",
        "  percentual = 5\n",
        "\n",
        "aumento = salário * percentual / 100\n",
        "novo_salário = salário + aumento\n",
        "print (\"salário antes do reajuste: R$ {:.2f}\".format(salário))\n",
        "print (\"percentual de aumento aplicado: {}%\".format(percentual))\n",
        "print (\"valor do aumento: R$ {:.2f}\".format(aumento))\n",
        "print (\"novo salário, após o aumento: R$ {:.2f}\".format(novo_salário))\n",
        "\n",
        "# salário 280:\n",
        "\n",
        "#antes do reajuste: R$ 280.00\n",
        "#percentual de aumento aplicado: 20%\n",
        "#valor do aumento: R$ 56.00\n",
        "#novo salário, após o aumento: R$ 336.00\n",
        "\n",
        "# salário 700:\n",
        "\n",
        "#antes do reajuste: R$ 700.00\n",
        "#percentual de aumento aplicado: 15%\n",
        "#valor do aumento: R$ 105.00\n",
        "#novo salário, após o aumento: R$ 805.00\n",
        "\n",
        "# salário 1500:\n",
        "\n",
        "#antes do reajuste: R$ 1500.00\n",
        "#percentual de aumento aplicado: 10%\n",
        "#valor do aumento: R$ 150.00\n",
        "#novo salário, após o aumento: R$ 1650.00"
      ],
      "metadata": {
        "id": "YJ4CJMTkXFbK"
      },
      "execution_count": null,
      "outputs": []
    },
    {
      "cell_type": "code",
      "source": [
        "# Atividade Teleaula 1 (Exercício 02)\n",
        "\n",
        "nota1 = float(input(\"Digite a sua primeira nota:\"))\n",
        "nota2 = float(input(\"Digite a sua segunda nota:\"))\n",
        "\n",
        "média_de_aproveitamento = (nota1 + nota2) / 2\n",
        "if média_de_aproveitamento <= 10:\n",
        "  print(\"A - Aprovado\")\n",
        "elif média_de_aproveitamento >= 9:\n",
        "  print(\"A - Aprovado\")\n",
        "elif média_de_aproveitamento <= 8.9:\n",
        "  print(\"B - Aprovado\")\n",
        "elif média_de_aproveitamento >= 7.5:\n",
        "  print(\"B - Aprovado\")\n",
        "elif média_de_aproveitamento <= 7.4:\n",
        "  print(\"C - Aprovado\")\n",
        "elif média_de_aproveitamento >= 6.0:\n",
        "  print(\"C - Aprovado\")\n",
        "elif média_de_aproveitamento <= 5.9:\n",
        "  print(\"D - Reprovado\")\n",
        "elif média_de_aproveitamento >= 4.0:\n",
        "  print(\"D - Reprovado\")\n",
        "elif média_de_aproveitamento <= 3.9:\n",
        "  print(\"E - Reprovado\")\n",
        "elif média_de_aproveitamento == 0:\n",
        "  print(\"E - Reprovado\")"
      ],
      "metadata": {
        "id": "j6h_3KLSjK7q"
      },
      "execution_count": null,
      "outputs": []
    },
    {
      "cell_type": "code",
      "source": [
        "# Atividade Teleaula 1 (Exercício 03)\n",
        "\n",
        "# Definir a função que recebe três argumentos.\n",
        "\n",
        "def soma_3_parcelas (parcela1, parcela2, parcela3):\n",
        "  return parcela1 + parcela2 + parcela3\n",
        "\n",
        "# Chamar a função e imprimir o resultado.\n",
        "\n",
        "parcela1 = int(input(\"Digite o valor da primeira parcela:\"))\n",
        "parcela2 = int(input(\"Digite o valor da segunda parcela:\"))\n",
        "parcela3 = int(input(\"Digite o valor da terceira parcela:\"))\n",
        "\n",
        "resultado = soma_3_parcelas (parcela1, parcela2, parcela3)\n",
        "print (f'a soma das três parcelas é de: {resultado}')\n"
      ],
      "metadata": {
        "id": "wG4P1nho3HKd"
      },
      "execution_count": null,
      "outputs": []
    },
    {
      "cell_type": "code",
      "source": [
        "# Exemplo de Código Teleaula (Customizado)\n",
        "\n",
        "# Bem-vindo à Máquina de Venda Automática de Ingressos de Cinema!\n",
        "\n",
        "# Solicita a idade do cliente\n",
        "idade = int(input(\"Digite a sua idade: \"))\n",
        "\n",
        "# Verifica a Disponibilidade de Ingressos (Váriaveis da QTDE de Ingressos)\n",
        "\n",
        "quantidade_ingressos_peter_pan = 38\n",
        "quantidade_ingressos_superbad = 40\n",
        "quantidade_ingressos_tirando_atraso = 35\n",
        "\n",
        "# Verifica a idade do cliente e seleciona o filme\n",
        "\n",
        "if idade <= 12:\n",
        "  filme_selecionado = \"Peter Pan\"\n",
        "  quantidade_ingressos = quantidade_ingressos_peter_pan\n",
        "  print(\"Recomenda-se assistir filmes infantis (Peter Pan).\")\n",
        "elif idade < 18:\n",
        "  filme_selecionado = \"Superbad\"\n",
        "  quantidade_ingressos = quantidade_ingressos_superbad\n",
        "  print(\"Recomenda-se assistir filmes adolescentes (Superbad - 2007).\")\n",
        "elif idade >= 18:\n",
        "  filme_selecionado = \"Tirando o Atraso\"\n",
        "  quantidade_ingressos = quantidade_ingressos_tirando_atraso\n",
        "  print(\"Recomenda-se assistir filmes adultos (Tirando o Atraso - 2016)\")\n",
        "\n",
        "# Exibe o filme selecionado\n",
        "print(f\"De acordo com a sua idade, o filme que foi selecionado é {filme_selecionado}.\")\n",
        "\n",
        "print(\"Certo, agora iremos verificar se ainda temos ingressos para este filme!\")\n",
        "\n",
        "if quantidade_ingressos == 0:\n",
        "  print(f\"Lamento, não há ingressos disponiveis para o filme {filme_selecionado}.\")\n",
        "  print(\"Por favor, escolha outro filme do nosso catálogo ou volte outro dia.\")\n",
        "else:\n",
        "  print(f\"Hoje é seu dia de sorte! Temos ingressos disponíveis para o fime {filme_selecionado}.\")\n",
        "  print(\"Divirta-se!\")"
      ],
      "metadata": {
        "id": "tb7938Ny8rcO"
      },
      "execution_count": null,
      "outputs": []
    },
    {
      "cell_type": "code",
      "source": [
        "#Exemplo Teleaula Estrutura de Repetição (for, while)\n",
        "\n",
        "numeros = (1, 2, 3, 4, 5)\n",
        "numeros\n"
      ],
      "metadata": {
        "id": "KtSxF0_eYfjn"
      },
      "execution_count": null,
      "outputs": []
    },
    {
      "cell_type": "code",
      "source": [
        "numeros"
      ],
      "metadata": {
        "id": "712MrHwEZaN1"
      },
      "execution_count": null,
      "outputs": []
    },
    {
      "cell_type": "code",
      "source": [
        "for numero in numeros:\n",
        "  print(numero)"
      ],
      "metadata": {
        "id": "lel1nYSJZSWx"
      },
      "execution_count": null,
      "outputs": []
    },
    {
      "cell_type": "code",
      "source": [
        "numero = int(input(\"Digite um número (ou 0 para sair): \"))\n",
        "\n",
        "while numero != 0:\n",
        "  if numero % 2 == 0:\n",
        "    print(\"O número é par.\")\n",
        "  else:\n",
        "    print(\"O número é ímpar.\")\n",
        "  numero = int(input(\"Digite um número (ou 0 para sair): \"))"
      ],
      "metadata": {
        "id": "6wkzp-WUaQev"
      },
      "execution_count": null,
      "outputs": []
    },
    {
      "cell_type": "code",
      "source": [
        "for x in range(5): #OBS: range sempre começa em 0.\n",
        "  print(x)\n"
      ],
      "metadata": {
        "id": "Aoply_JFb7wG"
      },
      "execution_count": null,
      "outputs": []
    },
    {
      "cell_type": "code",
      "source": [
        "for y in range(2, 7): #OBS: 7 não entra no looping.\n",
        "  print(y)"
      ],
      "metadata": {
        "id": "ZGNc7u_-cs_2"
      },
      "execution_count": null,
      "outputs": []
    },
    {
      "cell_type": "code",
      "source": [
        "for z in range(2, 12, 3): #OBS: 12 não entra no Looping.\n",
        "  print(z)"
      ],
      "metadata": {
        "id": "hcgW8r1kcuYG"
      },
      "execution_count": null,
      "outputs": []
    },
    {
      "cell_type": "code",
      "source": [
        "#Exemplo break**\n",
        "\n",
        "for numero in range(1, 11):\n",
        "  if numero % 2 == 0:\n",
        "    print(\"O primeiro número par encontrado é:\", numero)\n",
        "    break"
      ],
      "metadata": {
        "id": "JQYrW0x3dZWO"
      },
      "execution_count": null,
      "outputs": []
    },
    {
      "cell_type": "code",
      "source": [
        "#Exemplo continue**\n",
        "\n",
        "for numero in range(1, 11):\n",
        "  if numero == 5:\n",
        "    continue\n",
        "  print(numero)\n"
      ],
      "metadata": {
        "id": "889zWjm8d3cn"
      },
      "execution_count": null,
      "outputs": []
    },
    {
      "cell_type": "code",
      "source": [
        "#Lista de filmes para classificação\n",
        "filmes = \"Era uma vez em Hollywood\", \"O Grande Gatsby\", \"O Protetor\", \"Dia de Treinamento\", \"Cães de Guerra\"\n",
        "\n",
        "filmes"
      ],
      "metadata": {
        "id": "XQadtrj4f26f"
      },
      "execution_count": null,
      "outputs": []
    },
    {
      "cell_type": "code",
      "source": [
        "# Mensagem de Boas-Vindas\n",
        "\n",
        "print(\"Bem vindo à Classificação de Filmes!\")\n",
        "print(\"Aqui você tem até 5 filmes para classificar!\")\n",
        "print(\"Digite 0 a qualquer momento para parar.\\n\")\n",
        "\n",
        "# Loop para iterar sobre cada filme na lista\n",
        "for filme in filmes:\n",
        "  # Solicita classificação ao usuário\n",
        "  classificacao = input(f\"Como você classificaria '{filme}' de 1 a 5? (ou 0 para parar): \")\n",
        "\n",
        "# Verifica se o usuário deseja parar\n",
        "  if classificacao == \"0\":\n",
        "    print(\"Que pena!\")\n",
        "\n",
        "# Mensagem de despedida\n",
        "    print(\"De qualquer forma, agradecemos a sua atenção!\")\n",
        "    print(\"Até a Próxima!\")\n",
        "    break # Encerra o Loop Principal\n",
        "\n",
        "# Converte a classificação para um número inteiro\n",
        "  classificacao = int(classificacao)\n",
        "\n",
        "# Verifica se a classificação está dentro do intervalo válido\n",
        "\n",
        "  if classificacao < 1 or classificacao > 5:\n",
        "    print(\"Classificação inválida. Por favor, digite um número de 1 a 5.\")\n",
        "  else:\n",
        "# Exibe a classificação e passa para o próximo filme\n",
        "    print(f\"Você classificou '{filme}' como {classificacao} estrelas.\\n\")\n",
        "\n",
        "# Mensagem de agradecimento ao finalizar\n",
        "print(\"Obrigado por avaliar nossos filmes! Até a próxima!\")"
      ],
      "metadata": {
        "id": "cMH5GrkbghgH"
      },
      "execution_count": null,
      "outputs": []
    },
    {
      "cell_type": "code",
      "source": [
        "# Cria uma lista de números\n",
        "numeros = [1, 2, 3, 4, 5,6,7,8,9,10,11,12,'a',True]\n",
        "\n",
        "# Usa a função len () para calcular o comprimento da lista\n",
        "comprimento = len(numeros)\n",
        "\n",
        "# Imprime o comprimento da lista\n",
        "print(\"O comprimento da lista é:\", comprimento)"
      ],
      "metadata": {
        "colab": {
          "base_uri": "https://localhost:8080/"
        },
        "id": "XmJZ4GJlCWre",
        "outputId": "5fe3d7bd-983b-4cd7-fc4d-40b74f5754c3"
      },
      "execution_count": null,
      "outputs": [
        {
          "output_type": "stream",
          "name": "stdout",
          "text": [
            "O comprimento da lista é: 14\n"
          ]
        }
      ]
    },
    {
      "cell_type": "code",
      "source": [
        "# Definindo uma função chamada \"soma\"\n",
        "\n",
        "def soma (a, b):\n",
        "  resultado = a + b\n",
        "  return resultado"
      ],
      "metadata": {
        "id": "if1qeQEGCYkS"
      },
      "execution_count": null,
      "outputs": []
    },
    {
      "cell_type": "code",
      "source": [
        "resultado_soma = soma(98, 654)\n",
        "\n",
        "# Imprimindo o resultado\n",
        "print(\"A soma de 98 e 654 é:\", resultado_soma)"
      ],
      "metadata": {
        "colab": {
          "base_uri": "https://localhost:8080/"
        },
        "id": "6qdDuMsSCYIh",
        "outputId": "6eca79c8-7296-486b-ef88-d58e8d90d475"
      },
      "execution_count": null,
      "outputs": [
        {
          "output_type": "stream",
          "name": "stdout",
          "text": [
            "A soma de 98 e 654 é: 752\n"
          ]
        }
      ]
    },
    {
      "cell_type": "code",
      "source": [
        "# Definindo uma função chamada \"e_par\"\n",
        "def e_par(numero):\n",
        "  # Operador Módulo %\n",
        "    if numero % 2 == 0:\n",
        "        return True\n",
        "    else:\n",
        "        return False"
      ],
      "metadata": {
        "id": "ZHwoipfVI8cJ"
      },
      "execution_count": null,
      "outputs": []
    },
    {
      "cell_type": "code",
      "source": [
        "# Testando a função\n",
        "\n",
        "numero = 123120\n",
        "if e_par(numero):\n",
        "    print(f\"{numero} é um número par.\")\n",
        "else:\n",
        "    print(f\"{numero} não é um número par.\")"
      ],
      "metadata": {
        "id": "KYVp79NWLSMC"
      },
      "execution_count": null,
      "outputs": []
    },
    {
      "cell_type": "code",
      "source": [
        "soma = lambda a, b: a + b\n",
        "\n",
        "resultado = soma(3, 4)\n",
        "\n",
        "print(resultado)  # Isso imprimirá 7"
      ],
      "metadata": {
        "id": "88DTB-EpLsA1",
        "colab": {
          "base_uri": "https://localhost:8080/"
        },
        "outputId": "ac2a6e28-3dc4-42cb-c28e-bbec98481645"
      },
      "execution_count": null,
      "outputs": [
        {
          "output_type": "stream",
          "name": "stdout",
          "text": [
            "7\n"
          ]
        }
      ]
    },
    {
      "cell_type": "code",
      "source": [
        "# Lista de notas dos estudantes\n",
        "\n",
        "notas = [7.5, 8.0, 6.5, 9.0, 8.0]\n",
        "\n",
        "# Função regular para calcular a média\n",
        "def calcular_media(notas):\n",
        "    total = sum(notas)\n",
        "    media = total / len(notas)\n",
        "    return media\n",
        "\n",
        "# Função lambda para arredondar a média para duas casas decimais\n",
        "arredondar_media = lambda media: round(media, 2)\n",
        "\n",
        "# Calcular a média\n",
        "\n",
        "media = calcular_media(notas)\n",
        "media_arredondada = arredondar_media(media)\n",
        "\n",
        "# Verificar se os estudantes foram aprovados\n",
        "situacao = \"Aprovado\" if media_arredondada >= 7 else \"Reprovado\"\n",
        "\n",
        "# Resultados\n",
        "print(\"Notas do estudante:\", notas)\n",
        "print(\"Média das notas:\", media_arredondada)\n",
        "print(\"Situação do Estudante\", situacao)"
      ],
      "metadata": {
        "colab": {
          "base_uri": "https://localhost:8080/"
        },
        "id": "yPJa1AgxQ20W",
        "outputId": "907cf321-cc16-4d3b-8db5-6ae941c11cce"
      },
      "execution_count": null,
      "outputs": [
        {
          "output_type": "stream",
          "name": "stdout",
          "text": [
            "Notas do estudante: [7.5, 8.0, 6.5, 9.0, 8.0]\n",
            "Média das notas: 7.8\n",
            "Situação do Estudante Aprovado\n"
          ]
        }
      ]
    },
    {
      "cell_type": "code",
      "source": [
        "# Encerramento da Unidade\n",
        "\n",
        "# Solicita ao usuário que insira o valor do produto e o percentual de desconto\n",
        "valor_produto = float(input(\"Digite o valor do produto: R$ \"))"
      ],
      "metadata": {
        "id": "medxUiXlSTSX",
        "colab": {
          "base_uri": "https://localhost:8080/"
        },
        "outputId": "3eab9fbc-3910-4319-aa7e-d5af1e143498"
      },
      "execution_count": null,
      "outputs": [
        {
          "name": "stdout",
          "output_type": "stream",
          "text": [
            "Digite o valor do produto: R$ 195\n"
          ]
        }
      ]
    },
    {
      "cell_type": "code",
      "source": [
        "percentual_desconto = float(input(\"Digite o percentual de desconto: \"))"
      ],
      "metadata": {
        "colab": {
          "base_uri": "https://localhost:8080/"
        },
        "id": "Jt83hlrlKb1l",
        "outputId": "e79d3c12-0868-48e7-e751-3da504d8790f"
      },
      "execution_count": null,
      "outputs": [
        {
          "name": "stdout",
          "output_type": "stream",
          "text": [
            "Digite o percentual de desconto: 75\n"
          ]
        }
      ]
    },
    {
      "cell_type": "code",
      "source": [
        "# Verifica se o percentual de desconto está dentro dos limites aceitáveis (0-100%)\n",
        "if percentual_desconto < 0 or percentual_desconto > 100:\n",
        "    print(\"Erro: o percentual de desconto deve estar entre 0% e 100%.\")\n",
        "else:\n",
        "    # Calcula o valor do desconto\n",
        "    desconto = valor_produto * (percentual_desconto / 100)"
      ],
      "metadata": {
        "id": "ioDKsz89KhkD"
      },
      "execution_count": null,
      "outputs": []
    },
    {
      "cell_type": "code",
      "source": [
        " # Calcula o valor final da compra\n",
        "valor_final = valor_produto - desconto"
      ],
      "metadata": {
        "id": "snTFQS9GNBfn"
      },
      "execution_count": null,
      "outputs": []
    },
    {
      "cell_type": "code",
      "source": [
        "# Exibe o valor final da compra\n",
        "print(f\"Valor com desconto: R$ {valor_final:.2f}\")"
      ],
      "metadata": {
        "colab": {
          "base_uri": "https://localhost:8080/"
        },
        "id": "2EgaQZI-KilL",
        "outputId": "e713f4e6-1668-4e01-d4a4-c65f66020d1b"
      },
      "execution_count": null,
      "outputs": [
        {
          "output_type": "stream",
          "name": "stdout",
          "text": [
            "Valor com desconto: R$ 48.75\n"
          ]
        }
      ]
    },
    {
      "cell_type": "code",
      "source": [
        "# Atividade Teleaula 2 (Unidade 2)\n",
        "\n",
        "texto = \"Explorando a diversidade de linguagens de programação com Python.\"\n",
        "\n",
        "print(f\"Tamanho do texto = {len(texto)}\")\n",
        "print(f\"Python in texto = {'Python' in texto}\")\n",
        "print(f\"Quantidade de e no texto = {texto.count('e')}\")\n",
        "print(f\"As 5 primeiras letras são: {texto[:5]}\")"
      ],
      "metadata": {
        "id": "qNDEYBDjM_K6",
        "colab": {
          "base_uri": "https://localhost:8080/"
        },
        "outputId": "c02fba37-95f8-456f-f473-857fc571a1f4"
      },
      "execution_count": null,
      "outputs": [
        {
          "output_type": "stream",
          "name": "stdout",
          "text": [
            "Tamanho do texto = 65\n",
            "Python in texto = True\n",
            "Quantidade de e no texto = 5\n",
            "As 5 primeiras letras são: Explo\n"
          ]
        }
      ]
    },
    {
      "cell_type": "code",
      "source": [
        "texto[13]"
      ],
      "metadata": {
        "colab": {
          "base_uri": "https://localhost:8080/",
          "height": 35
        },
        "id": "eYmZ2_TJbKq5",
        "outputId": "bad013f1-abf3-418c-b754-744479afae2d"
      },
      "execution_count": null,
      "outputs": [
        {
          "output_type": "execute_result",
          "data": {
            "text/plain": [
              "'d'"
            ],
            "application/vnd.google.colaboratory.intrinsic+json": {
              "type": "string"
            }
          },
          "metadata": {},
          "execution_count": 13
        }
      ]
    },
    {
      "cell_type": "code",
      "source": [
        "# Criando uma lista\n",
        "\n",
        "cores = ['vermelho', 'azul', 'verde', 'amarelo', 'rosa']\n",
        "for cor in cores:\n",
        "    print(f'Posição = {cores.index(cor)}, cor = {cor}')"
      ],
      "metadata": {
        "colab": {
          "base_uri": "https://localhost:8080/"
        },
        "id": "t8jW8MRldRG8",
        "outputId": "49da867d-e073-45e5-e8d2-5c417430bbad"
      },
      "execution_count": null,
      "outputs": [
        {
          "output_type": "stream",
          "name": "stdout",
          "text": [
            "Posição = 0, cor = vermelho\n",
            "Posição = 1, cor = azul\n",
            "Posição = 2, cor = verde\n",
            "Posição = 3, cor = amarelo\n",
            "Posição = 4, cor = rosa\n"
          ]
        }
      ]
    },
    {
      "cell_type": "code",
      "source": [
        "# Listcomp!\n",
        "\n",
        "linguagens = [\"Python\", \"Java\", \"JavaScript\", \"C\", \"C#\", \"C++\", \"Swift\", \"Go\", \"Kotlin\"]\n",
        "print(\"Antes da listcomp = \", linguagens)\n",
        "linguagens = [item.lower() for item in linguagens]\n",
        "print(\"\\nDepois da listcomp = \", linguagens)"
      ],
      "metadata": {
        "colab": {
          "base_uri": "https://localhost:8080/"
        },
        "id": "QJqWmALBdtRe",
        "outputId": "485ccfb7-f708-4e73-ad40-adbc3f22ab3a"
      },
      "execution_count": null,
      "outputs": [
        {
          "output_type": "stream",
          "name": "stdout",
          "text": [
            "Antes da listcomp =  ['Python', 'Java', 'JavaScript', 'C', 'C#', 'C++', 'Swift', 'Go', 'Kotlin']\n",
            "\n",
            "Depois da listcomp =  ['python', 'java', 'javascript', 'c', 'c#', 'c++', 'swift', 'go', 'kotlin']\n"
          ]
        }
      ]
    },
    {
      "cell_type": "code",
      "source": [
        "# Função map!\n",
        "# Aplica a uma função em toda a sequência\n",
        "# map(funcao, sequencia)\n",
        "precos_em_dolares = [100, 50, 75, 120]\n",
        "taxa_de_cambio = 5.25\n",
        "precos_em_reais = list(map(lambda x: x * taxa_de_cambio, precos_em_dolares))\n",
        "print(precos_em_reais)"
      ],
      "metadata": {
        "colab": {
          "base_uri": "https://localhost:8080/"
        },
        "id": "mwXgaNDGe1if",
        "outputId": "189b8590-550d-49ff-c76d-6fc682209a21"
      },
      "execution_count": null,
      "outputs": [
        {
          "output_type": "stream",
          "name": "stdout",
          "text": [
            "[525.0, 262.5, 393.75, 630.0]\n"
          ]
        }
      ]
    },
    {
      "cell_type": "code",
      "source": [
        "precos_em_reais"
      ],
      "metadata": {
        "colab": {
          "base_uri": "https://localhost:8080/"
        },
        "id": "-UZaG0izgFKO",
        "outputId": "e03f3980-df25-46dd-dfd0-efbea009b5bf"
      },
      "execution_count": null,
      "outputs": [
        {
          "output_type": "execute_result",
          "data": {
            "text/plain": [
              "[525.0, 262.5, 393.75, 630.0]"
            ]
          },
          "metadata": {},
          "execution_count": 22
        }
      ]
    },
    {
      "cell_type": "code",
      "source": [
        "# Função filter!\n",
        "# Filtra os elementos de uma sequência com base em uma função de teste (retorna True or False)\n",
        "# filter(funcao_teste, sequencia)\n",
        "\n",
        "numeros = [1, 2, 3, 4, 5, 6, 7, 8, 9, 10]\n",
        "numeros_pares = list(filter(lambda x: x % 2 == 0, numeros))\n",
        "print(numeros_pares)"
      ],
      "metadata": {
        "colab": {
          "base_uri": "https://localhost:8080/"
        },
        "id": "FQPGSIW_gIY1",
        "outputId": "15d1543f-c3d4-4e8d-910d-23450b4e625b"
      },
      "execution_count": null,
      "outputs": [
        {
          "output_type": "stream",
          "name": "stdout",
          "text": [
            "[2, 4, 6, 8, 10]\n"
          ]
        }
      ]
    },
    {
      "cell_type": "code",
      "source": [
        "# A ORDEM IMPORTA!\n",
        "# Exemplos de mais Tuplas e Utilidades\n",
        "\n",
        "vogais = ('a', 'e', 'i', 'o', 'u')\n",
        "print(f\"Tipo do objeto vogais = {type(vogais)}\")\n",
        "for p, x in enumerate(vogais):\n",
        "    print(f\"Posição = {p}, valor = {x}\")"
      ],
      "metadata": {
        "colab": {
          "base_uri": "https://localhost:8080/"
        },
        "id": "RF4_QcCAhBg4",
        "outputId": "3a743394-f438-4e41-dc78-2d9c13d2ea0f"
      },
      "execution_count": null,
      "outputs": [
        {
          "output_type": "stream",
          "name": "stdout",
          "text": [
            "Tipo do objeto vogais = <class 'tuple'>\n",
            "Posição = 0, valor = a\n",
            "Posição = 1, valor = e\n",
            "Posição = 2, valor = i\n",
            "Posição = 3, valor = o\n",
            "Posição = 4, valor = u\n"
          ]
        }
      ]
    },
    {
      "cell_type": "code",
      "source": [
        "# Aplicando a Aula!\n",
        "\n",
        "# Tupla de convidados\n",
        "convidados = (\"Alice\", \"Bob\", \"Carol\", \"David\", \"Eve\")\n",
        "\n",
        "# Lista de confirmações\n",
        "confirmados = [\"Bob\", \"David\"]\n",
        "\n",
        "# Identificar quem ainda não confirmou\n",
        "nao_confirmados = [convidado for convidado in convidados if convidado not in confirmados]\n",
        "\n",
        "# Exibir os convidados que ainda não confirmaram\n",
        "print(\"Convidados que ainda não confirmaram:\")\n",
        "for pessoa in nao_confirmados:\n",
        "    print(pessoa)\n",
        "\n",
        "# Enviar lembretes aos não confirmados\n",
        "print(\"\\nEnviando lembretes para os convidados que ainda não confirmaram.\")"
      ],
      "metadata": {
        "colab": {
          "base_uri": "https://localhost:8080/"
        },
        "id": "kMDuKmUchrEE",
        "outputId": "101df6fa-b268-476f-f2df-be7851cf0c3f"
      },
      "execution_count": null,
      "outputs": [
        {
          "output_type": "stream",
          "name": "stdout",
          "text": [
            "Convidados que ainda não confirmaram:\n",
            "Alice\n",
            "Carol\n",
            "Eve\n",
            "\n",
            "Enviando lembretes para os convidados que ainda não confirmaram.\n"
          ]
        }
      ]
    },
    {
      "cell_type": "code",
      "source": [
        "#Estrutura de Dados PT II.\n",
        "\n",
        "## add (), in e remove()\n",
        "\n",
        "# Criando um conjunto vazio\n",
        "meu_conjunto = set()"
      ],
      "metadata": {
        "id": "WMgnkCoMJLMD"
      },
      "execution_count": null,
      "outputs": []
    },
    {
      "cell_type": "code",
      "source": [
        "meu_conjunto"
      ],
      "metadata": {
        "colab": {
          "base_uri": "https://localhost:8080/"
        },
        "id": "_Ka6FQeaPS7E",
        "outputId": "c370b906-d480-4a8a-d942-74ec23679aff"
      },
      "execution_count": null,
      "outputs": [
        {
          "output_type": "execute_result",
          "data": {
            "text/plain": [
              "set()"
            ]
          },
          "metadata": {},
          "execution_count": 2
        }
      ]
    },
    {
      "cell_type": "code",
      "source": [
        "# Adicionando elementos ao conjunto\n",
        "meu_conjunto.add(10)\n",
        "meu_conjunto.add(20)\n",
        "meu_conjunto.add(30)\n",
        "\n",
        "# Imprimindo o conjunto\n",
        "print(\"Conjunto após adicionar elementos:\", meu_conjunto)"
      ],
      "metadata": {
        "colab": {
          "base_uri": "https://localhost:8080/"
        },
        "id": "YPmke1XLJLW4",
        "outputId": "2fd3b5ed-fc76-48b6-a05d-13de19d4c7b9"
      },
      "execution_count": null,
      "outputs": [
        {
          "output_type": "stream",
          "name": "stdout",
          "text": [
            "Conjunto após adicionar elementos: {10, 20, 30}\n"
          ]
        }
      ]
    },
    {
      "cell_type": "code",
      "source": [
        "# Verificando se um elemento está no conjunto\n",
        "elemento = 20\n",
        "if elemento in meu_conjunto:\n",
        "    print(f\"{elemento} está no conjunto.\")\n",
        "else:\n",
        "    print(f\"{elemento} não está no conjunto.\")\n",
        "\n",
        "# Removendo um elemento do conjunto\n",
        "meu_conjunto.remove(20)\n",
        "\n",
        "# Imprimindo o conjunto atualizado\n",
        "print(\"Conjunto após remover o elemento 20:\", meu_conjunto)"
      ],
      "metadata": {
        "colab": {
          "base_uri": "https://localhost:8080/"
        },
        "id": "0jsEiLNBPdIh",
        "outputId": "672731b8-8a1f-4535-f9d4-d322f7087957"
      },
      "execution_count": null,
      "outputs": [
        {
          "output_type": "stream",
          "name": "stdout",
          "text": [
            "20 está no conjunto.\n",
            "Conjunto após remover o elemento 20: {10, 30}\n"
          ]
        }
      ]
    },
    {
      "cell_type": "code",
      "source": [
        "# Exemplo 1 - Criação de um dicionário vazio, seguido de atribuição de chaves e valores\n",
        "\n",
        "dici_1 = {}\n",
        "dici_1['nome'] = \"Maria\"\n",
        "dici_1['idade'] = 25"
      ],
      "metadata": {
        "id": "crPDo1CmP8A0"
      },
      "execution_count": null,
      "outputs": []
    },
    {
      "cell_type": "code",
      "source": [
        "dici_1"
      ],
      "metadata": {
        "colab": {
          "base_uri": "https://localhost:8080/"
        },
        "id": "XW03eALoQ1Xy",
        "outputId": "c63df5ac-aa64-434e-fbcb-fa1653331583"
      },
      "execution_count": null,
      "outputs": [
        {
          "output_type": "execute_result",
          "data": {
            "text/plain": [
              "{'nome': 'Maria', 'idade': 25}"
            ]
          },
          "metadata": {},
          "execution_count": 9
        }
      ]
    },
    {
      "cell_type": "code",
      "source": [
        "# Exemplo 2 - Criação de um dicionário com pares chave: valor\n",
        "\n",
        "dici_2 = {'nome': 'Maria', 'idade': 25}\n",
        "\n",
        "# Exemplo 3 - Criação de um dicionário com uma lista de tuplas representando pares chave: valor\n",
        "\n",
        "dici_3 = dict([('nome', \"Maria\"), ('idade', 25)])\n",
        "\n",
        "# Exemplo 4 - Criação de um dicionário usando a função built-in zip() e duas listas, uma para as chaves e outra para os valores\n",
        "\n",
        "dici_4 = dict(zip(['nome', 'idade'], [\"Maria\", 25]))\n",
        "\n",
        "# Teste se todas as construções resultam em objetos iguais\n",
        "\n",
        "print(dici_1 == dici_2 == dici_3 == dici_4)  # Deve imprimir True\n",
        "print(dici_1)"
      ],
      "metadata": {
        "colab": {
          "base_uri": "https://localhost:8080/"
        },
        "id": "XJe53yl8Q-uK",
        "outputId": "2cc64b6e-78a8-45f5-8a08-de7dfc44ecf0"
      },
      "execution_count": null,
      "outputs": [
        {
          "output_type": "stream",
          "name": "stdout",
          "text": [
            "True\n",
            "{'nome': 'Maria', 'idade': 25}\n"
          ]
        }
      ]
    },
    {
      "cell_type": "code",
      "source": [
        "print(dici_2)"
      ],
      "metadata": {
        "colab": {
          "base_uri": "https://localhost:8080/"
        },
        "id": "CNoqQ69wRPbx",
        "outputId": "b1815cd8-21ac-4fa1-f6ba-d6d3f8b3ab41"
      },
      "execution_count": null,
      "outputs": [
        {
          "output_type": "stream",
          "name": "stdout",
          "text": [
            "{'nome': 'Maria', 'idade': 25}\n"
          ]
        }
      ]
    },
    {
      "cell_type": "code",
      "source": [
        "# Importe a biblioteca NumPy\n",
        "import numpy as np\n",
        "\n",
        "# Crie um array NumPy de números inteiros\n",
        "my_array = np.array([1, 2, 3, 4, 5])\n",
        "\n",
        "# Imprima o array\n",
        "\n",
        "print(\"Array original:\")\n",
        "print(my_array)"
      ],
      "metadata": {
        "colab": {
          "base_uri": "https://localhost:8080/"
        },
        "id": "VLFm35sHTMrr",
        "outputId": "c33b0ccd-13c4-400d-8fbc-2c2bfa5eb7af"
      },
      "execution_count": null,
      "outputs": [
        {
          "output_type": "stream",
          "name": "stdout",
          "text": [
            "Array original:\n",
            "[1 2 3 4 5]\n"
          ]
        }
      ]
    },
    {
      "cell_type": "code",
      "source": [
        "# Realize operações matemáticas com o array\n",
        "squared_array = my_array ** 2  # Eleva cada elemento ao quadrado\n",
        "sum_of_elements = np.sum(my_array)  # Calcula a soma de todos os elementos\n",
        "\n",
        "# Imprima os resultados\n",
        "print(\"\\nArray ao quadrado:\")\n",
        "print(squared_array)\n",
        "print(\"\\nSoma dos elementos:\")\n",
        "print(sum_of_elements)\n",
        "\n",
        "# Acesse elementos do array\n",
        "\n",
        "element_at_index_2 = my_array[2]  # Acessa o elemento no índice 2\n",
        "print(\"\\nElemento no índice 2:\", element_at_index_2)"
      ],
      "metadata": {
        "colab": {
          "base_uri": "https://localhost:8080/"
        },
        "id": "NRZjh3-NVbLT",
        "outputId": "eb11c936-e04d-4a16-d2ff-6913d5394e19"
      },
      "execution_count": null,
      "outputs": [
        {
          "output_type": "stream",
          "name": "stdout",
          "text": [
            "\n",
            "Array ao quadrado:\n",
            "[ 1  4  9 16 25]\n",
            "\n",
            "Soma dos elementos:\n",
            "15\n",
            "\n",
            "Elemento no índice 2: 3\n"
          ]
        }
      ]
    },
    {
      "cell_type": "code",
      "source": [
        "# Importe as bibliotecas necessárias\n",
        "\n",
        "import numpy as np\n",
        "\n",
        "# Dados dos participantes\n",
        "\n",
        "participantes = [\n",
        "\n",
        "    {\n",
        "        \"nome\": \"Alice\",\n",
        "        \"localizacao\": \"EUA\",\n",
        "        \"afiliacao\": \"Universidade A\",\n",
        "        \"interesses\": [\"Física\", \"Astronomia\"]\n",
        "\n",
        "    },\n",
        "    {\n",
        "        \"nome\": \"Bob\",\n",
        "        \"localizacao\": \"Brasil\",\n",
        "        \"afiliacao\": \"Instituto B\",\n",
        "        \"interesses\": [\"Biologia\", \"Astronomia\"]\n",
        "    },\n",
        "    {\n",
        "        \"nome\": \"Charlie\",\n",
        "        \"localizacao\": \"Índia\",\n",
        "        \"afiliacao\": \"Instituto C\",\n",
        "        \"interesses\": [\"Química\", \"Engenharia\"]\n",
        "    }\n",
        "    # Adicione mais participantes conforme necessário\n",
        "]\n",
        "\n",
        "# Usando sets para identificar diferentes regiões dos participantes\n",
        "\n",
        "regioes = set(participante[\"localizacao\"] for participante in participantes)\n",
        "\n",
        "# Usando um dicionário para categorizar afiliações\n",
        "\n",
        "afiliacoes = {}\n",
        "for participante in participantes:\n",
        "    afiliacao = participante[\"afiliacao\"]\n",
        "    if afiliacao not in afiliacoes:\n",
        "        afiliacoes[afiliacao] = []\n",
        "    afiliacoes[afiliacao].append(participante[\"nome\"])\n",
        "\n",
        "# Usando NumPy para analisar áreas de interesse\n",
        "\n",
        "areas_de_interesse = np.array([interesse for participante in participantes for interesse in participante[\"interesses\"]])\n",
        "interesses_unicos, contagem = np.unique(areas_de_interesse, return_counts=True)\n",
        "area_mais_popular = interesses_unicos[np.argmax(contagem)]\n",
        "\n",
        "# Exibindo os resultados\n",
        "\n",
        "print(\"Regiões dos participantes:\", regioes)\n",
        "print(\"\\nParticipantes por afiliação:\",)\n",
        "for afiliacao, nomes in afiliacoes.items():\n",
        "    print(f\"{afiliacao}: {', '.join(nomes)}\")\n",
        "print(\"\\nÁrea de interesse mais popular:\", area_mais_popular)\n"
      ],
      "metadata": {
        "colab": {
          "base_uri": "https://localhost:8080/"
        },
        "id": "bjwOqGlYWWXV",
        "outputId": "41c6d719-dffc-4d1f-80e5-271ab77f556e"
      },
      "execution_count": null,
      "outputs": [
        {
          "output_type": "stream",
          "name": "stdout",
          "text": [
            "Regiões dos participantes: {'Brasil', 'Índia', 'EUA'}\n",
            "\n",
            "Participantes por afiliação:\n",
            "Universidade A: Alice\n",
            "Instituto B: Bob\n",
            "Instituto C: Charlie\n",
            "\n",
            "Área de interesse mais popular: Astronomia\n"
          ]
        }
      ]
    },
    {
      "cell_type": "code",
      "source": [
        "# Classes e Métodos em Python\n",
        "\n",
        "# Define uma classe chamada Pessoa.\n",
        "class Pessoa:\n",
        "\n",
        "    # O método __init__ é um construtor, chamado quando um objeto da classe é criado.\n",
        "    # Ele inicializa os atributos da classe.\n",
        "    def __init__(self, nome, idade, genero):\n",
        "\n",
        "        # self é uma convenção em Python que se refere à própria instância da classe.\n",
        "        # Os parâmetros nome, idade e gênero são passados durante a criação do objeto.\n",
        "        # Eles são usados para inicializar os atributos da instância.\n",
        "\n",
        "        self.nome = nome  # Atribui o valor de nome ao atributo nome da instância.\n",
        "        self.idade = idade  # Atribui o valor de idade ao atributo idade da instância.\n",
        "        self.genero = genero  # Atribui o valor de gênero ao atributo gênero da instância.\n",
        "\n",
        "    # O método cumprimentar retorna uma saudação com o nome da pessoa.\n",
        "    def cumprimentar(self):\n",
        "        return f\"Olá, meu nome é {self.nome}.\"\n",
        "\n",
        "    # O método aniversário aumenta a idade da pessoa em 1.\n",
        "    def aniversario(self):\n",
        "        self.idade += 1"
      ],
      "metadata": {
        "id": "y99Wtm86YfjB"
      },
      "execution_count": null,
      "outputs": []
    },
    {
      "cell_type": "code",
      "source": [
        "# Cria uma instância da classe “Pessoa” com os valores “João”, 30 e “Masculino” para nome, idade e gênero, respectivamente.\n",
        "pessoa1 = Pessoa(\"João\", 30, \"Masculino\")\n",
        "\n",
        "# Chama o método “cumprimentar” na instância pessoa1 e imprime a saudação.\n",
        "print(pessoa1.cumprimentar())  # Saída: \"Olá, meu nome é João.\"\n",
        "\n",
        "# Acessa o atributo idade da instância pessoa1 e imprime sua idade.\n",
        "print(f\"Idade: {pessoa1.idade}\")  # Saída: \"Idade: 30\"\n",
        "\n",
        "# Chama o método \"aniversário\" na instância pessoa1 para aumentar sua idade em 1.\n",
        "pessoa1.aniversario()\n",
        "\n",
        "# Acessa o atributo idade atualizado da instância pessoa1 e imprime a nova idade.\n",
        "print(f\"Nova idade: {pessoa1.idade}\")  # Saída: \"Nova idade: 31\""
      ],
      "metadata": {
        "colab": {
          "base_uri": "https://localhost:8080/"
        },
        "id": "rX7q2zjJlWT-",
        "outputId": "e6e9e80b-fcd3-46b0-885f-6caf698f8012"
      },
      "execution_count": null,
      "outputs": [
        {
          "output_type": "stream",
          "name": "stdout",
          "text": [
            "Olá, meu nome é João.\n",
            "Idade: 30\n",
            "Nova idade: 31\n"
          ]
        }
      ]
    },
    {
      "cell_type": "code",
      "source": [
        "class Animal:\n",
        "    def __init__(self, nome):\n",
        "        self.nome = nome\n",
        "    def fazer_barulho(self):\n",
        "        pass\n",
        "class Cachorro(Animal):\n",
        "    def fazer_barulho(self):\n",
        "        return \"Latir\"\n",
        "class Gato(Animal):\n",
        "    def fazer_barulho(self):\n",
        "        return \"Miar\""
      ],
      "metadata": {
        "id": "_pMz1y_m0feh"
      },
      "execution_count": null,
      "outputs": []
    },
    {
      "cell_type": "code",
      "source": [
        "rex = Cachorro(\"Rex\")\n",
        "brisa = Gato(\"Brisa\")"
      ],
      "metadata": {
        "id": "omzalkyR1QQP"
      },
      "execution_count": null,
      "outputs": []
    },
    {
      "cell_type": "code",
      "source": [
        "print(f\"{rex.nome} faz: {rex.fazer_barulho()}\")  # Saída: \"Rex faz: Latir\"\n",
        "\n",
        "print(f\"{brisa.nome} faz: {brisa.fazer_barulho()}\")  # Saída: \"Brisa faz: Miar\""
      ],
      "metadata": {
        "colab": {
          "base_uri": "https://localhost:8080/"
        },
        "id": "Wp_i1ukw1eI_",
        "outputId": "7c9ecadb-fc07-476a-f60a-df281505e940"
      },
      "execution_count": null,
      "outputs": [
        {
          "output_type": "stream",
          "name": "stdout",
          "text": [
            "Rex faz: Latir\n",
            "Brisa faz: Miar\n"
          ]
        }
      ]
    },
    {
      "cell_type": "code",
      "source": [
        "class Veiculo:\n",
        "\n",
        "    def __init__(self, marca, modelo, ano):\n",
        "        self.marca = marca\n",
        "        self.modelo = modelo\n",
        "        self.ano = ano\n",
        "        self.velocidade = 0\n",
        "\n",
        "    def acelerar(self, incremento):\n",
        "        self.velocidade += incremento\n",
        "\n",
        "    def frear(self, decremento):\n",
        "        self.velocidade -= decremento\n",
        "\n",
        "    def status(self):\n",
        "        return f\"Marca: {self.marca}, Modelo: {self.modelo}, Ano: {self.ano}, Velocidade: {self.velocidade} km/h\"\n",
        "\n",
        "class Carro(Veiculo):\n",
        "\n",
        "    def __init__(self, marca, modelo, ano, potencia):\n",
        "        super().__init__(marca, modelo, ano)\n",
        "        self.potencia = potencia\n",
        "    def acelerar(self, incremento):\n",
        "\n",
        "        # Carros podem acelerar mais rápido.\n",
        "\n",
        "        self.velocidade += incremento + self.potencia\n",
        "\n",
        "class Bicicleta(Veiculo):\n",
        "    def __init__(self, marca, modelo, ano, tipo):\n",
        "        super().__init__(marca, modelo, ano)\n",
        "        self.tipo = tipo\n",
        "    def status(self):\n",
        "        return f\"Marca: {self.marca}, Modelo: {self.modelo}, Ano: {self.ano}, Tipo: {self.tipo}, Velocidade: {self.velocidade} km/h\"\n",
        "\n",
        "# Criando objetos\n",
        "\n",
        "carro1 = Carro(\"Chevrolet\", \"Monza\", 1997, 150)\n",
        "bicicleta1 = Bicicleta(\"GTS\", \"Techs\", 2021, \"PRO\")\n",
        "\n",
        "# Acelerando e verificando o status\n",
        "\n",
        "carro1.acelerar(50)\n",
        "bicicleta1.acelerar(10)\n",
        "\n",
        "# Exibindo o status dos veículos\n",
        "\n",
        "print(\"Status do Carro:\")\n",
        "print(carro1.status())\n",
        "print(\"\\nStatus da Bicicleta:\")\n",
        "print(bicicleta1.status())"
      ],
      "metadata": {
        "id": "gf67UtmL14mo",
        "colab": {
          "base_uri": "https://localhost:8080/"
        },
        "outputId": "e03116e7-9573-42df-acd1-43e1a3305c11"
      },
      "execution_count": null,
      "outputs": [
        {
          "output_type": "stream",
          "name": "stdout",
          "text": [
            "Status do Carro:\n",
            "Marca: Chevrolet, Modelo: Monza, Ano: 1997, Velocidade: 200 km/h\n",
            "\n",
            "Status da Bicicleta:\n",
            "Marca: GTS, Modelo: Techs, Ano: 2021, Tipo: PRO, Velocidade: 10 km/h\n"
          ]
        }
      ]
    },
    {
      "cell_type": "code",
      "source": [
        "# Módulos e Bibliotecas em Python: São componentes de código que servem como conjuntos de funções em python. (Facilitam a organização e a reutilização de funções em várias aplicações.)\n",
        "\n",
        "# :P"
      ],
      "metadata": {
        "id": "eaShd5s5TFDq"
      },
      "execution_count": null,
      "outputs": []
    },
    {
      "cell_type": "code",
      "source": [
        "#primeiro modo\n",
        "import math\n",
        "\n",
        "math.sqrt(25)\n",
        "math.log2(1024)\n",
        "math.cos(45)"
      ],
      "metadata": {
        "colab": {
          "base_uri": "https://localhost:8080/"
        },
        "id": "LZ9tIbMIRPyr",
        "outputId": "c8906050-70db-4247-d80a-2492630fa2d9"
      },
      "execution_count": null,
      "outputs": [
        {
          "output_type": "execute_result",
          "data": {
            "text/plain": [
              "0.5253219888177297"
            ]
          },
          "metadata": {},
          "execution_count": 7
        }
      ]
    },
    {
      "cell_type": "code",
      "source": [
        "#segundo modo\n",
        "import math as m\n",
        "\n",
        "m.sqrt(25)\n",
        "m.log2(1024)\n",
        "m.cos(45)"
      ],
      "metadata": {
        "colab": {
          "base_uri": "https://localhost:8080/"
        },
        "id": "YXTYs-fQSD3B",
        "outputId": "1627118e-e566-4d02-d6f1-e30a57a0f671"
      },
      "execution_count": null,
      "outputs": [
        {
          "output_type": "execute_result",
          "data": {
            "text/plain": [
              "0.5253219888177297"
            ]
          },
          "metadata": {},
          "execution_count": 8
        }
      ]
    },
    {
      "cell_type": "code",
      "source": [
        "#terceiro modo\n",
        "from math import sqrt, log2, cos\n",
        "\n",
        "sqrt(25)\n",
        "log2(1024)\n",
        "cos(45)"
      ],
      "metadata": {
        "colab": {
          "base_uri": "https://localhost:8080/"
        },
        "id": "Lu9iTrN-N0ql",
        "outputId": "d9b76799-87b6-46d8-b5fb-0afdbb4c6c36"
      },
      "execution_count": null,
      "outputs": [
        {
          "output_type": "execute_result",
          "data": {
            "text/plain": [
              "0.5253219888177297"
            ]
          },
          "metadata": {},
          "execution_count": 9
        }
      ]
    },
    {
      "cell_type": "code",
      "source": [
        "import matplotlib.pyplot as plt\n",
        "\n",
        "# Dados\n",
        "x = [1, 2, 3, 4, 5]\n",
        "y = [2, 4, 1, 3, 5]\n",
        "\n",
        "# Criar um gráfico de linha\n",
        "\n",
        "plt.plot(x, y)  # Pode ser \"plt.bar\" para ser um gráfico em barras, ou \"plt.plot\" para ser um gráfico em linhas.\n",
        "\n",
        "# Adicionar rótulos aos eixos\n",
        "\n",
        "plt.xlabel('Eixo X')\n",
        "plt.ylabel('Eixo Y')\n",
        "\n",
        "# Adicionar um título ao gráfico\n",
        "\n",
        "plt.title('Exemplo de Gráfico de Linha')\n",
        "\n",
        "# Mostrar o gráfico\n",
        "\n",
        "plt.show()"
      ],
      "metadata": {
        "colab": {
          "base_uri": "https://localhost:8080/",
          "height": 472
        },
        "id": "kIT8n8CMUkY4",
        "outputId": "f8fa26f3-00cd-4c90-e74a-208e94cdceff"
      },
      "execution_count": null,
      "outputs": [
        {
          "output_type": "display_data",
          "data": {
            "text/plain": [
              "<Figure size 640x480 with 1 Axes>"
            ],
            "image/png": "[encoded data removed]"
          },
          "metadata": {}
        }
      ]
    },
    {
      "cell_type": "code",
      "source": [
        "# Aplicando a aula\n",
        "\n",
        "import matplotlib.pyplot as plt\n",
        "\n",
        "# Dados de exemplo\n",
        "meses = ['Janeiro', 'Fevereiro', 'Março', 'Abril', 'Maio']\n",
        "vendas = [120, 90, 150, 80, 200]\n",
        "\n",
        "# Criar um gráfico de barras\n",
        "plt.bar(meses, vendas, color='purple')\n",
        "\n",
        "# Adicionar rótulos aos eixos\n",
        "plt.xlabel('Mês')\n",
        "plt.ylabel('Vendas (em unidades)')\n",
        "\n",
        "# Adicionar um título ao gráfico\n",
        "plt.title('Vendas Mensais')\n",
        "\n",
        "# Mostrar o gráfico\n",
        "plt.show()"
      ],
      "metadata": {
        "colab": {
          "base_uri": "https://localhost:8080/",
          "height": 472
        },
        "id": "iJ_BDIYRWnum",
        "outputId": "02ca1c7e-b7c5-49bc-84a0-7ea29dc92c11"
      },
      "execution_count": null,
      "outputs": [
        {
          "output_type": "display_data",
          "data": {
            "text/plain": [
              "<Figure size 640x480 with 1 Axes>"
            ],
            "image/png": "[encoded data removed]"
          },
          "metadata": {}
        }
      ]
    },
    {
      "cell_type": "code",
      "source": [],
      "metadata": {
        "id": "EB-TyjEMbwWx"
      },
      "execution_count": null,
      "outputs": []
    },
    {
      "cell_type": "code",
      "source": [
        "# Encerramento da Unidade 2 (\"Aplicando a Unidade\")\n",
        "\n",
        "import matplotlib.pyplot as plt\n",
        "\n",
        "# Classe para representar um livro\n",
        "class Livro:\n",
        "    def __init__(self, titulo, autor, ano_publicacao):\n",
        "        self.titulo = titulo\n",
        "        self.autor = autor\n",
        "        self.ano_publicacao = ano_publicacao\n",
        "    def __str__(self):\n",
        "        return f\"{self.titulo} por {self.autor}, Publicado em {self.ano_publicacao}\"\n"
      ],
      "metadata": {
        "id": "YG4Ay5qdb7Sx"
      },
      "execution_count": null,
      "outputs": []
    },
    {
      "cell_type": "code",
      "source": [
        "# Criar uma lista de livros\n",
        "biblioteca = []\n",
        "\n",
        "# Lista para armazenar anos de publicação\n",
        "anos = []\n",
        "\n",
        "# Função para adicionar um livro à biblioteca\n",
        "def adicionar_livro(titulo, autor, ano_publicacao):\n",
        "    novo_livro = Livro(titulo, autor, ano_publicacao)\n",
        "    biblioteca.append(novo_livro)\n",
        "    print(f\"O livro '{titulo}' foi adicionado à biblioteca.\")\n",
        "\n",
        "# Função para listar todos os livros na biblioteca\n",
        "def listar_livros():\n",
        "    print(\"Livros na Biblioteca:\")\n",
        "    for livro in biblioteca:\n",
        "        print(livro)\n",
        "\n",
        "# Adicionar alguns livros à biblioteca\n",
        "adicionar_livro(\"Dom Quixote\", \"Miguel de Cervantes\", 1605)\n",
        "adicionar_livro(\"Orgulho e Preconceito\",\"Jane Austen\", 1813)\n",
        "adicionar_livro(\"1984\",\"Jorge Orwell\", 1949)\n",
        "adicionar_livro(\"Cem Anos de Solidão\",\"Gabriel Garcia Marquez\" , 1967)\n",
        "adicionar_livro(\"Apanhador no Campo de Centeio\",\"J.D. Salinger\", 1951)"
      ],
      "metadata": {
        "colab": {
          "base_uri": "https://localhost:8080/"
        },
        "id": "unUH5Q0IXdtI",
        "outputId": "72f75516-21de-4998-d4b7-1b165fb403e2"
      },
      "execution_count": null,
      "outputs": [
        {
          "output_type": "stream",
          "name": "stdout",
          "text": [
            "O livro 'Dom Quixote' foi adicionado à biblioteca.\n",
            "O livro 'Orgulho e Preconceito' foi adicionado à biblioteca.\n",
            "O livro '1984' foi adicionado à biblioteca.\n",
            "O livro 'Cem Anos de Solidão' foi adicionado à biblioteca.\n",
            "O livro 'Apanhador no Campo de Centeio' foi adicionado à biblioteca.\n"
          ]
        }
      ]
    },
    {
      "cell_type": "code",
      "source": [
        "# Listar todos os livros na biblioteca\n",
        "listar_livros()\n",
        "\n",
        "# Criar um gráfico de livros por ano\n",
        "anos = list(set(anos))# Remove duplicatas dos anos\n",
        "anos.sort()\n",
        "\n",
        "# Supondo que 'anos' seja a lista original com os anos de publicação de todos os livros\n",
        "anos = [1605, 1813, 1949, 1967, 1951]  # Exemplo de lista de anos\n",
        "\n",
        "# Contagem de livros por ano\n",
        "contagem_por_ano = [anos.count(ano) for ano in anos]\n",
        "\n",
        "# Criar um gráfico de linha\n",
        "plt.plot(anos, contagem_por_ano, marker='o', linestyle='-')\n",
        "plt.xlabel('Ano de Publicação')\n",
        "plt.ylabel('Número de Livros')\n",
        "plt.title('Distribuição de Livros na Biblioteca por Ano de Publicação')\n",
        "\n",
        "# Adicionar rótulos aos pontos de dados\n",
        "for i, valor in enumerate(contagem_por_ano):\n",
        "    plt.text(anos[i], valor, str(valor), ha='center', va='bottom')\n",
        "\n",
        "plt.grid(True)\n",
        "\n",
        "plt.show()"
      ],
      "metadata": {
        "colab": {
          "base_uri": "https://localhost:8080/",
          "height": 576
        },
        "id": "S8EDQNRxdlNO",
        "outputId": "fd156f5b-34b0-42cf-9b7d-fa56783c61e6"
      },
      "execution_count": null,
      "outputs": [
        {
          "output_type": "stream",
          "name": "stdout",
          "text": [
            "Livros na Biblioteca:\n",
            "Dom Quixote por Miguel de Cervantes, Publicado em 1605\n",
            "Orgulho e Preconceito por Jane Austen, Publicado em 1813\n",
            "1984 por Jorge Orwell, Publicado em 1949\n",
            "Cem Anos de Solidão por Gabriel Garcia Marquez, Publicado em 1967\n",
            "Apanhador no Campo de Centeio por J.D. Salinger, Publicado em 1951\n"
          ]
        },
        {
          "output_type": "display_data",
          "data": {
            "text/plain": [
              "<Figure size 640x480 with 1 Axes>"
            ],
            "image/png": "[encoded data removed]"
          },
          "metadata": {}
        }
      ]
    },
    {
      "cell_type": "code",
      "source": [
        "# Atividade 3 Unidade 2\n",
        "\n",
        "# a)\n",
        "\n",
        "# Inicializando os vetores\n",
        "numeros = []\n",
        "pares = []\n",
        "impares = []\n",
        "\n",
        "# Lendo 20 números inteiros e armazenando no vetor 'numeros'\n",
        "for i in range(20):\n",
        "    numero = int(input(f\"Digite o {i+1}º número: \"))\n",
        "    numeros.append(numero)\n",
        "\n",
        "    # Separando em pares e ímpares\n",
        "    if numero % 2 == 0:\n",
        "        pares.append(numero)\n",
        "    else:\n",
        "        impares.append(numero)\n",
        "\n",
        "# Imprimindo os três vetores\n",
        "print(\"\\nVetor completo com 20 números:\", numeros)\n",
        "print(\"Vetor de números pares:\", pares)\n",
        "print(\"Vetor de números ímpares:\", impares)"
      ],
      "metadata": {
        "id": "ZGP6NVneuboE"
      },
      "execution_count": null,
      "outputs": []
    },
    {
      "cell_type": "code",
      "source": [
        "# b\n",
        "\n",
        "# Inicializando o vetor\n",
        "numeros = []\n",
        "\n",
        "# Lendo 5 números inteiros do usuário\n",
        "for i in range(5):\n",
        "    numero = int(input(f\"Digite o {i+1}º número: \"))\n",
        "    numeros.append(numero)\n",
        "\n",
        "# Mostrando os números\n",
        "print(\"\\nNúmeros inseridos:\", numeros)\n",
        "\n",
        "# Calculando a soma dos números\n",
        "soma = sum(numeros)\n",
        "\n",
        "# Mostrando a soma\n",
        "print(\"Soma dos números:\", soma)\n",
        "\n",
        "# Inicializando a variável para a multiplicação\n",
        "multiplicacao = 1\n",
        "\n",
        "# Multiplicando os números\n",
        "for numero in numeros:\n",
        "    multiplicacao *= numero\n",
        "\n",
        "# Mostrando a multiplicação\n",
        "print(\"Multiplicação dos números:\", multiplicacao)"
      ],
      "metadata": {
        "id": "GsiBdvbivjq1"
      },
      "execution_count": null,
      "outputs": []
    },
    {
      "cell_type": "code",
      "source": [
        "# Atividade 4 Unidade 2\n",
        "\n",
        "#Estrutura de Dados Pilha em Python\n",
        "\n",
        "class Pilha:\n",
        "    def __init__(self):\n",
        "        self.itens = []\n",
        "\n",
        "    def esta_vazia(self):\n",
        "        return len(self.itens) == 0\n",
        "\n",
        "    def empilhar(self, item):\n",
        "        self.itens.append(item)\n",
        "\n",
        "    def desempilhar(self):\n",
        "        if not self.esta_vazia():\n",
        "            return self.itens.pop()\n",
        "        else:\n",
        "            return \"A pilha está vazia\"\n",
        "\n",
        "    def topo(self):\n",
        "        if not self.esta_vazia():\n",
        "            return self.itens[-1]\n",
        "        else:\n",
        "            return \"A pilha está vazia\"\n",
        "\n",
        "    def tamanho(self):\n",
        "        return len(self.itens)\n",
        "\n",
        "# Exemplo de uso\n",
        "pilha = Pilha()\n",
        "pilha.empilhar(1)\n",
        "pilha.empilhar(2)\n",
        "pilha.empilhar(3)\n",
        "print(pilha.desempilhar())  # 3\n",
        "print(pilha.topo())         # 2\n",
        "print(pilha.tamanho())      # 2"
      ],
      "metadata": {
        "id": "yIIRhC6Fv_ae"
      },
      "execution_count": null,
      "outputs": []
    },
    {
      "cell_type": "code",
      "source": [
        "# Começando a Unidade 3 - Aplicação de Banco de dados com Python\n",
        "\n",
        "# Linguagem de Consulta Estruturada (SQL)[sqlite3]\n",
        "\n",
        "# DDL (Linguagem de Definição de Dados)\n",
        "# DML (Linguagem de Manipulação de Dados)\n",
        "# DCL (Linguagem de Controle de Dados)\n",
        "\n",
        "\n"
      ],
      "metadata": {
        "id": "iiYpH07T0tQv"
      },
      "execution_count": null,
      "outputs": []
    },
    {
      "cell_type": "code",
      "source": [
        "import sqlite3\n",
        "\n",
        "# 1. Conectar ao Banco de Dados (ou criar um novo)\n",
        "# Usando a função connect do módulo sqlite3 para se conectar a um Banco de Dados SQLite\n",
        "#chamado 'exemplo.db'. Se o banco de dados não existir, ele será criado automat.\n",
        "conn = sqlite3.connect('exemplo.db')\n",
        "\n",
        "# 2. Criar um objeto cursor\n",
        "# O cursor é usado para executar comandos SQL no Banco de Dados.\n",
        "# Ele atua como uma espécie de ponteiro que percorre os resultados de consultas.\n",
        "cursor = conn.cursor()\n",
        "\n",
        "# 3. Definir o comando SQL para criar a tabela\n",
        "#define uma string create_table que contém um comando SQL para criar uma tabela chamada \"Produtos\".\n",
        "#Esta tabela terá quatro colunas: id (chave primária), nome (texto), preço (número real) e estoque (número inteiro).\n",
        "create_table = \"\"\"\n",
        "CREATE TABLE IF NOT EXISTS Produtos (\n",
        "    id INTEGER PRIMARY KEY,\n",
        "    nome TEXT NOT NULL,\n",
        "    preco REAL NOT NULL,\n",
        "    estoque INTEGER\n",
        "\n",
        ");\n",
        "\"\"\"\n",
        "\n",
        "# Usa o método execute do objeto cursor para executar o comando SQL definido anteriormente e criar a tabela no Banco de Dados.\n",
        "# 4. Executar o comando SQL para criar a tabela\n",
        "cursor.execute(create_table)\n",
        "\n",
        "# 5. Confirmar as alterações (commit)\n",
        "#Após a execução bem-sucedida do comando SQL, usa o método commit no objeto de conexão (conn) para confirmar as alterações no Banco de Dados.\n",
        "conn.commit()\n",
        "\n",
        "# 6. Fechar a conexão com o banco de dados\n",
        "#Finalmente, você usa o método close no objeto de conexão para encerrar a conexão com o Banco de Dados.\n",
        "#É uma prática recomendada fechar a conexão após a conclusão das operações, para liberar recursos e evitar possíveis problemas de concorrência.\n",
        "conn.close()"
      ],
      "metadata": {
        "id": "WQ1SvNBO1cco"
      },
      "execution_count": null,
      "outputs": []
    },
    {
      "cell_type": "code",
      "source": [
        "import sqlite3\n",
        "# Conectando ao banco de dados\n",
        "conn = sqlite3.connect('exemplo.db')\n",
        "cursor = conn.cursor()\n",
        "# Dados do novo produto\n",
        "novo_produto = ('Camiseta', 29.90, 50)\n",
        "# Comando SQL para inserir o novo produto na tabela\n",
        "inserir_produto = \"INSERT INTO Produtos (nome, preco, estoque) VALUES (?, ?, ?)\"\n",
        "# Executando o comando SQL para inserção\n",
        "cursor.execute(inserir_produto, novo_produto)\n",
        "# Confirmando as alterações\n",
        "conn.commit()\n",
        "# Fechando a conexão\n",
        "conn.close()"
      ],
      "metadata": {
        "id": "9ebkelaR5kj6"
      },
      "execution_count": null,
      "outputs": []
    },
    {
      "cell_type": "code",
      "source": [
        "# Conectando ao banco de dados\n",
        "conn = sqlite3.connect('exemplo.db')\n",
        "cursor = conn.cursor()\n",
        "# Comando SQL para selecionar todos os produtos\n",
        "selecionar_produtos = \"SELECT * FROM Produtos\"\n",
        "# Executando o comando SQL\n",
        "cursor.execute(selecionar_produtos)\n",
        "# Obtendo todos os registros e exibindo-os\n",
        "produtos = cursor.fetchall()\n",
        "for produto in produtos:\n",
        "    print(produto)\n",
        "# Fechando a conexão\n",
        "conn.close()"
      ],
      "metadata": {
        "colab": {
          "base_uri": "https://localhost:8080/"
        },
        "id": "fFH86GwS5k-I",
        "outputId": "230c4570-1163-4e3d-afd4-3a2e9005b6ac"
      },
      "execution_count": null,
      "outputs": [
        {
          "output_type": "stream",
          "name": "stdout",
          "text": [
            "(1, 'Camiseta', 24.99, 50)\n"
          ]
        }
      ]
    },
    {
      "cell_type": "code",
      "source": [
        "import sqlite3\n",
        "# Conectando ao banco de dados\n",
        "conn = sqlite3.connect('exemplo.db')\n",
        "cursor = conn.cursor()\n",
        "# Novo preço e ID do produto a ser atualizado\n",
        "novo_preco = 24.99\n",
        "produto_id = 1  # Suponha que queiramos atualizar o produto com ID 1\n",
        "# Comando SQL para atualizar o preço do produto\n",
        "atualizar_preco = \"UPDATE Produtos SET preco = ? WHERE id = ?\"\n",
        "# Executando o comando SQL de atualização\n",
        "cursor.execute(atualizar_preco, (novo_preco, produto_id))\n",
        "# Confirmando as alterações\n",
        "conn.commit()\n",
        "# Fechando a conexão\n",
        "conn.close()"
      ],
      "metadata": {
        "id": "GoFulNrh7OYb"
      },
      "execution_count": null,
      "outputs": []
    },
    {
      "cell_type": "code",
      "source": [
        "import sqlite3\n",
        "# Conectando ao banco de dados\n",
        "conn = sqlite3.connect('exemplo.db')\n",
        "cursor = conn.cursor()\n",
        "# ID do produto a ser excluído\n",
        "produto_id = 2  # Suponha que queiramos excluir o produto com ID 2\n",
        "# Comando SQL para excluir o produto\n",
        "excluir_produto = \"DELETE FROM Produtos WHERE id = ?\"\n",
        "# Executando o comando SQL de exclusão\n",
        "cursor.execute(excluir_produto, (produto_id,))\n",
        "# Confirmando as alterações\n",
        "conn.commit()\n",
        "# Fechando a conexão\n",
        "conn.close()"
      ],
      "metadata": {
        "id": "MwnvX6ms73A3"
      },
      "execution_count": null,
      "outputs": []
    },
    {
      "cell_type": "code",
      "source": [
        "import sqlite3\n",
        "# CREATE (Criação da tabela e inserção de dados de exemplo)\n",
        "conn = sqlite3.connect('contatos.db')\n",
        "cursor = conn.cursor()\n",
        "cursor.execute('''\n",
        "    CREATE TABLE IF NOT EXISTS Contatos (\n",
        "        id INTEGER PRIMARY KEY AUTOINCREMENT,\n",
        "        nome TEXT,\n",
        "        email TEXT,\n",
        "        telefone TEXT\n",
        "\n",
        "    )\n",
        "\n",
        "''')\n",
        "\n",
        "dados_exemplo = [\n",
        "    ('João', 'joao@email.com', '123-456-7890'),\n",
        "    ('Maria', 'maria@email.com', '987-654-3210'),\n",
        "    ('Carlos', 'carlos@email.com', '555-555-5555')\n",
        "]\n",
        "cursor.executemany('INSERT INTO Contatos (nome, email, telefone) VALUES (?, ?, ?)', dados_exemplo)\n",
        "conn.commit()\n",
        "\n",
        "# READ (Leitura e exibição dos contatos)\n",
        "cursor.execute('SELECT * FROM Contatos')\n",
        "contatos = cursor.fetchall()\n",
        "print(\"Contatos:\")\n",
        "for contato in contatos:\n",
        "    print(contato)\n",
        "\n",
        "# UPDATE (Atualização do número de telefone do contato com ID 2)\n",
        "\n",
        "novo_telefone = '999-999-9999'\n",
        "contato_id = 2\n",
        "cursor.execute('UPDATE Contatos SET telefone = ? WHERE id = ?', (novo_telefone, contato_id))\n",
        "conn.commit()\n",
        "\n",
        "# DELETE (Exclusão do contato com ID 1)\n",
        "contato_id_para_excluir = 1\n",
        "cursor.execute('DELETE FROM Contatos WHERE id = ?', (contato_id_para_excluir,))\n",
        "conn.commit()\n",
        "\n",
        "# Fechando a conexão\n",
        "conn.close()"
      ],
      "metadata": {
        "colab": {
          "base_uri": "https://localhost:8080/"
        },
        "id": "IpzKDBX78SwY",
        "outputId": "548c2c46-661a-4e3c-99e6-bdff02eeaaf1"
      },
      "execution_count": null,
      "outputs": [
        {
          "output_type": "stream",
          "name": "stdout",
          "text": [
            "Contatos:\n",
            "(1, 'João', 'joao@email.com', '123-456-7890')\n",
            "(2, 'Maria', 'maria@email.com', '987-654-3210')\n",
            "(3, 'Carlos', 'carlos@email.com', '555-555-5555')\n"
          ]
        }
      ]
    },
    {
      "cell_type": "code",
      "source": [
        "# Introdução a Biblioteca Pandas\n",
        "# O FAMOSO Pandas\n",
        "\n",
        "import pandas as pd\n",
        "\n",
        "# Criando uma lista de valores\n",
        "exemplo1 = [10, 20, 30, 40, 50]\n",
        "\n",
        "# Criando uma Series a partir da lista\n",
        "series1 = pd.Series(data = exemplo1)\n",
        "\n",
        "print(series1)\n",
        "print(exemplo1)"
      ],
      "metadata": {
        "colab": {
          "base_uri": "https://localhost:8080/"
        },
        "id": "hb8Frtk9BKoo",
        "outputId": "46533215-3497-4559-b257-f57682578a6b"
      },
      "execution_count": null,
      "outputs": [
        {
          "output_type": "stream",
          "name": "stdout",
          "text": [
            "0    10\n",
            "1    20\n",
            "2    30\n",
            "3    40\n",
            "4    50\n",
            "dtype: int64\n",
            "[10, 20, 30, 40, 50]\n"
          ]
        }
      ]
    },
    {
      "cell_type": "code",
      "source": [
        " # Criando um dicionário com a Série\n",
        "\n",
        " import pandas as pd\n",
        "\n",
        "# Criando um dicionário com pares chave-valor\n",
        "Exemplo2 = {'A': 100, 'B': 200, 'C': 300, 'D': 400, 'E': 500}\n",
        "\n",
        "# Criando uma Series a partir do dicionário\n",
        "series2 = pd.Series(data = Exemplo2)\n",
        "print(series2)\n",
        "print(Exemplo2)"
      ],
      "metadata": {
        "colab": {
          "base_uri": "https://localhost:8080/"
        },
        "id": "f1XK6EDAC1fY",
        "outputId": "2a40b935-9890-429d-d5f8-7f75e186145b"
      },
      "execution_count": null,
      "outputs": [
        {
          "output_type": "stream",
          "name": "stdout",
          "text": [
            "A    100\n",
            "B    200\n",
            "C    300\n",
            "D    400\n",
            "E    500\n",
            "dtype: int64\n",
            "{'A': 100, 'B': 200, 'C': 300, 'D': 400, 'E': 500}\n"
          ]
        }
      ]
    },
    {
      "cell_type": "code",
      "source": [
        "# Leitura de Dados Estruturados com a Biblioteca Pandas\n",
        "\n",
        "import pandas as pd\n",
        "url = 'https://www.fdic.gov/resources/resolutions/bank-failures/failed-bank-list/'\n",
        "dfs = pd.read_html(url)\n",
        "\n",
        "print(type(dfs))\n",
        "print(len(dfs))"
      ],
      "metadata": {
        "colab": {
          "base_uri": "https://localhost:8080/"
        },
        "id": "vyzog2nvDSkZ",
        "outputId": "05a436e1-0c7f-48b9-aa9c-7282242a5216"
      },
      "execution_count": null,
      "outputs": [
        {
          "output_type": "stream",
          "name": "stdout",
          "text": [
            "<class 'list'>\n",
            "1\n"
          ]
        }
      ]
    },
    {
      "cell_type": "code",
      "source": [
        "df_bancos = dfs[0]"
      ],
      "metadata": {
        "id": "falwoBtlD_jH"
      },
      "execution_count": null,
      "outputs": []
    },
    {
      "cell_type": "code",
      "source": [
        "print(df_bancos.shape)"
      ],
      "metadata": {
        "colab": {
          "base_uri": "https://localhost:8080/"
        },
        "id": "wKfh5EsjD_5Q",
        "outputId": "fbce48d1-d91d-4e17-ab16-281c14957a37"
      },
      "execution_count": null,
      "outputs": [
        {
          "output_type": "stream",
          "name": "stdout",
          "text": [
            "(10, 7)\n"
          ]
        }
      ]
    },
    {
      "cell_type": "code",
      "source": [
        "print(df_bancos.dtypes)"
      ],
      "metadata": {
        "colab": {
          "base_uri": "https://localhost:8080/"
        },
        "id": "75JLkxZMDSo4",
        "outputId": "b9de01af-9a0c-412d-9f0a-a3b36d1fcf5b"
      },
      "execution_count": null,
      "outputs": [
        {
          "output_type": "stream",
          "name": "stdout",
          "text": [
            "Bank Name               object\n",
            "City                    object\n",
            "State                   object\n",
            "Cert                     int64\n",
            "Aquiring Institution    object\n",
            "Closing Date            object\n",
            "Fund                     int64\n",
            "dtype: object\n"
          ]
        }
      ]
    },
    {
      "cell_type": "code",
      "source": [
        "df_bancos.head()"
      ],
      "metadata": {
        "colab": {
          "base_uri": "https://localhost:8080/",
          "height": 206
        },
        "id": "oAX7BsP_EGxR",
        "outputId": "2c93a9f1-4755-4661-b36c-47f89ee57e29"
      },
      "execution_count": null,
      "outputs": [
        {
          "output_type": "execute_result",
          "data": {
            "text/plain": [
              "                               Bank Name           City         State   Cert  \\\n",
              "0  Republic First Bank dba Republic Bank   Philadelphia  Pennsylvania  27332   \n",
              "1                          Citizens Bank       Sac City          Iowa   8758   \n",
              "2               Heartland Tri-State Bank        Elkhart        Kansas  25851   \n",
              "3                    First Republic Bank  San Francisco    California  59017   \n",
              "4                         Signature Bank       New York      New York  57053   \n",
              "\n",
              "                Aquiring Institution      Closing Date   Fund  \n",
              "0  Fulton Bank, National Association    April 26, 2024  10546  \n",
              "1          Iowa Trust & Savings Bank  November 3, 2023  10545  \n",
              "2             Dream First Bank, N.A.     July 28, 2023  10544  \n",
              "3          JPMorgan Chase Bank, N.A.       May 1, 2023  10543  \n",
              "4                Flagstar Bank, N.A.    March 12, 2023  10540  "
            ],
            "text/html": [
              "\n",
              "  <div id=\"df-0228175c-a3bf-4ab6-9343-3a5eff6b7de8\" class=\"colab-df-container\">\n",
              "    <div>\n",
              "<style scoped>\n",
              "    .dataframe tbody tr th:only-of-type {\n",
              "        vertical-align: middle;\n",
              "    }\n",
              "\n",
              "    .dataframe tbody tr th {\n",
              "        vertical-align: top;\n",
              "    }\n",
              "\n",
              "    .dataframe thead th {\n",
              "        text-align: right;\n",
              "    }\n",
              "</style>\n",
              "<table border=\"1\" class=\"dataframe\">\n",
              "  <thead>\n",
              "    <tr style=\"text-align: right;\">\n",
              "      <th></th>\n",
              "      <th>Bank Name</th>\n",
              "      <th>City</th>\n",
              "      <th>State</th>\n",
              "      <th>Cert</th>\n",
              "      <th>Aquiring Institution</th>\n",
              "      <th>Closing Date</th>\n",
              "      <th>Fund</th>\n",
              "    </tr>\n",
              "  </thead>\n",
              "  <tbody>\n",
              "    <tr>\n",
              "      <th>0</th>\n",
              "      <td>Republic First Bank dba Republic Bank</td>\n",
              "      <td>Philadelphia</td>\n",
              "      <td>Pennsylvania</td>\n",
              "      <td>27332</td>\n",
              "      <td>Fulton Bank, National Association</td>\n",
              "      <td>April 26, 2024</td>\n",
              "      <td>10546</td>\n",
              "    </tr>\n",
              "    <tr>\n",
              "      <th>1</th>\n",
              "      <td>Citizens Bank</td>\n",
              "      <td>Sac City</td>\n",
              "      <td>Iowa</td>\n",
              "      <td>8758</td>\n",
              "      <td>Iowa Trust &amp; Savings Bank</td>\n",
              "      <td>November 3, 2023</td>\n",
              "      <td>10545</td>\n",
              "    </tr>\n",
              "    <tr>\n",
              "      <th>2</th>\n",
              "      <td>Heartland Tri-State Bank</td>\n",
              "      <td>Elkhart</td>\n",
              "      <td>Kansas</td>\n",
              "      <td>25851</td>\n",
              "      <td>Dream First Bank, N.A.</td>\n",
              "      <td>July 28, 2023</td>\n",
              "      <td>10544</td>\n",
              "    </tr>\n",
              "    <tr>\n",
              "      <th>3</th>\n",
              "      <td>First Republic Bank</td>\n",
              "      <td>San Francisco</td>\n",
              "      <td>California</td>\n",
              "      <td>59017</td>\n",
              "      <td>JPMorgan Chase Bank, N.A.</td>\n",
              "      <td>May 1, 2023</td>\n",
              "      <td>10543</td>\n",
              "    </tr>\n",
              "    <tr>\n",
              "      <th>4</th>\n",
              "      <td>Signature Bank</td>\n",
              "      <td>New York</td>\n",
              "      <td>New York</td>\n",
              "      <td>57053</td>\n",
              "      <td>Flagstar Bank, N.A.</td>\n",
              "      <td>March 12, 2023</td>\n",
              "      <td>10540</td>\n",
              "    </tr>\n",
              "  </tbody>\n",
              "</table>\n",
              "</div>\n",
              "    <div class=\"colab-df-buttons\">\n",
              "\n",
              "  <div class=\"colab-df-container\">\n",
              "    <button class=\"colab-df-convert\" onclick=\"convertToInteractive('df-0228175c-a3bf-4ab6-9343-3a5eff6b7de8')\"\n",
              "            title=\"Convert this dataframe to an interactive table.\"\n",
              "            style=\"display:none;\">\n",
              "\n",
              "  <svg xmlns=\"http://www.w3.org/2000/svg\" height=\"24px\" viewBox=\"0 -960 960 960\">\n",
              "    <path d=\"M120-120v-720h720v720H120Zm60-500h600v-160H180v160Zm220 220h160v-160H400v160Zm0 220h160v-160H400v160ZM180-400h160v-160H180v160Zm440 0h160v-160H620v160ZM180-180h160v-160H180v160Zm440 0h160v-160H620v160Z\"/>\n",
              "  </svg>\n",
              "    </button>\n",
              "\n",
              "  <style>\n",
              "    .colab-df-container {\n",
              "      display:flex;\n",
              "      gap: 12px;\n",
              "    }\n",
              "\n",
              "    .colab-df-convert {\n",
              "      background-color: #E8F0FE;\n",
              "      border: none;\n",
              "      border-radius: 50%;\n",
              "      cursor: pointer;\n",
              "      display: none;\n",
              "      fill: #1967D2;\n",
              "      height: 32px;\n",
              "      padding: 0 0 0 0;\n",
              "      width: 32px;\n",
              "    }\n",
              "\n",
              "    .colab-df-convert:hover {\n",
              "      background-color: #E2EBFA;\n",
              "      box-shadow: 0px 1px 2px rgba(60, 64, 67, 0.3), 0px 1px 3px 1px rgba(60, 64, 67, 0.15);\n",
              "      fill: #174EA6;\n",
              "    }\n",
              "\n",
              "    .colab-df-buttons div {\n",
              "      margin-bottom: 4px;\n",
              "    }\n",
              "\n",
              "    [theme=dark] .colab-df-convert {\n",
              "      background-color: #3B4455;\n",
              "      fill: #D2E3FC;\n",
              "    }\n",
              "\n",
              "    [theme=dark] .colab-df-convert:hover {\n",
              "      background-color: #434B5C;\n",
              "      box-shadow: 0px 1px 3px 1px rgba(0, 0, 0, 0.15);\n",
              "      filter: drop-shadow(0px 1px 2px rgba(0, 0, 0, 0.3));\n",
              "      fill: #FFFFFF;\n",
              "    }\n",
              "  </style>\n",
              "\n",
              "    <script>\n",
              "      const buttonEl =\n",
              "        document.querySelector('#df-0228175c-a3bf-4ab6-9343-3a5eff6b7de8 button.colab-df-convert');\n",
              "      buttonEl.style.display =\n",
              "        google.colab.kernel.accessAllowed ? 'block' : 'none';\n",
              "\n",
              "      async function convertToInteractive(key) {\n",
              "        const element = document.querySelector('#df-0228175c-a3bf-4ab6-9343-3a5eff6b7de8');\n",
              "        const dataTable =\n",
              "          await google.colab.kernel.invokeFunction('convertToInteractive',\n",
              "                                                    [key], {});\n",
              "        if (!dataTable) return;\n",
              "\n",
              "        const docLinkHtml = 'Like what you see? Visit the ' +\n",
              "          '<a target=\"_blank\" href=https://colab.research.google.com/notebooks/data_table.ipynb>data table notebook</a>'\n",
              "          + ' to learn more about interactive tables.';\n",
              "        element.innerHTML = '';\n",
              "        dataTable['output_type'] = 'display_data';\n",
              "        await google.colab.output.renderOutput(dataTable, element);\n",
              "        const docLink = document.createElement('div');\n",
              "        docLink.innerHTML = docLinkHtml;\n",
              "        element.appendChild(docLink);\n",
              "      }\n",
              "    </script>\n",
              "  </div>\n",
              "\n",
              "\n",
              "<div id=\"df-e73b67ca-0bc1-421d-b82e-083bc1ee2dd8\">\n",
              "  <button class=\"colab-df-quickchart\" onclick=\"quickchart('df-e73b67ca-0bc1-421d-b82e-083bc1ee2dd8')\"\n",
              "            title=\"Suggest charts\"\n",
              "            style=\"display:none;\">\n",
              "\n",
              "<svg xmlns=\"http://www.w3.org/2000/svg\" height=\"24px\"viewBox=\"0 0 24 24\"\n",
              "     width=\"24px\">\n",
              "    <g>\n",
              "        <path d=\"M19 3H5c-1.1 0-2 .9-2 2v14c0 1.1.9 2 2 2h14c1.1 0 2-.9 2-2V5c0-1.1-.9-2-2-2zM9 17H7v-7h2v7zm4 0h-2V7h2v10zm4 0h-2v-4h2v4z\"/>\n",
              "    </g>\n",
              "</svg>\n",
              "  </button>\n",
              "\n",
              "<style>\n",
              "  .colab-df-quickchart {\n",
              "      --bg-color: #E8F0FE;\n",
              "      --fill-color: #1967D2;\n",
              "      --hover-bg-color: #E2EBFA;\n",
              "      --hover-fill-color: #174EA6;\n",
              "      --disabled-fill-color: #AAA;\n",
              "      --disabled-bg-color: #DDD;\n",
              "  }\n",
              "\n",
              "  [theme=dark] .colab-df-quickchart {\n",
              "      --bg-color: #3B4455;\n",
              "      --fill-color: #D2E3FC;\n",
              "      --hover-bg-color: #434B5C;\n",
              "      --hover-fill-color: #FFFFFF;\n",
              "      --disabled-bg-color: #3B4455;\n",
              "      --disabled-fill-color: #666;\n",
              "  }\n",
              "\n",
              "  .colab-df-quickchart {\n",
              "    background-color: var(--bg-color);\n",
              "    border: none;\n",
              "    border-radius: 50%;\n",
              "    cursor: pointer;\n",
              "    display: none;\n",
              "    fill: var(--fill-color);\n",
              "    height: 32px;\n",
              "    padding: 0;\n",
              "    width: 32px;\n",
              "  }\n",
              "\n",
              "  .colab-df-quickchart:hover {\n",
              "    background-color: var(--hover-bg-color);\n",
              "    box-shadow: 0 1px 2px rgba(60, 64, 67, 0.3), 0 1px 3px 1px rgba(60, 64, 67, 0.15);\n",
              "    fill: var(--button-hover-fill-color);\n",
              "  }\n",
              "\n",
              "  .colab-df-quickchart-complete:disabled,\n",
              "  .colab-df-quickchart-complete:disabled:hover {\n",
              "    background-color: var(--disabled-bg-color);\n",
              "    fill: var(--disabled-fill-color);\n",
              "    box-shadow: none;\n",
              "  }\n",
              "\n",
              "  .colab-df-spinner {\n",
              "    border: 2px solid var(--fill-color);\n",
              "    border-color: transparent;\n",
              "    border-bottom-color: var(--fill-color);\n",
              "    animation:\n",
              "      spin 1s steps(1) infinite;\n",
              "  }\n",
              "\n",
              "  @keyframes spin {\n",
              "    0% {\n",
              "      border-color: transparent;\n",
              "      border-bottom-color: var(--fill-color);\n",
              "      border-left-color: var(--fill-color);\n",
              "    }\n",
              "    20% {\n",
              "      border-color: transparent;\n",
              "      border-left-color: var(--fill-color);\n",
              "      border-top-color: var(--fill-color);\n",
              "    }\n",
              "    30% {\n",
              "      border-color: transparent;\n",
              "      border-left-color: var(--fill-color);\n",
              "      border-top-color: var(--fill-color);\n",
              "      border-right-color: var(--fill-color);\n",
              "    }\n",
              "    40% {\n",
              "      border-color: transparent;\n",
              "      border-right-color: var(--fill-color);\n",
              "      border-top-color: var(--fill-color);\n",
              "    }\n",
              "    60% {\n",
              "      border-color: transparent;\n",
              "      border-right-color: var(--fill-color);\n",
              "    }\n",
              "    80% {\n",
              "      border-color: transparent;\n",
              "      border-right-color: var(--fill-color);\n",
              "      border-bottom-color: var(--fill-color);\n",
              "    }\n",
              "    90% {\n",
              "      border-color: transparent;\n",
              "      border-bottom-color: var(--fill-color);\n",
              "    }\n",
              "  }\n",
              "</style>\n",
              "\n",
              "  <script>\n",
              "    async function quickchart(key) {\n",
              "      const quickchartButtonEl =\n",
              "        document.querySelector('#' + key + ' button');\n",
              "      quickchartButtonEl.disabled = true;  // To prevent multiple clicks.\n",
              "      quickchartButtonEl.classList.add('colab-df-spinner');\n",
              "      try {\n",
              "        const charts = await google.colab.kernel.invokeFunction(\n",
              "            'suggestCharts', [key], {});\n",
              "      } catch (error) {\n",
              "        console.error('Error during call to suggestCharts:', error);\n",
              "      }\n",
              "      quickchartButtonEl.classList.remove('colab-df-spinner');\n",
              "      quickchartButtonEl.classList.add('colab-df-quickchart-complete');\n",
              "    }\n",
              "    (() => {\n",
              "      let quickchartButtonEl =\n",
              "        document.querySelector('#df-e73b67ca-0bc1-421d-b82e-083bc1ee2dd8 button');\n",
              "      quickchartButtonEl.style.display =\n",
              "        google.colab.kernel.accessAllowed ? 'block' : 'none';\n",
              "    })();\n",
              "  </script>\n",
              "</div>\n",
              "\n",
              "    </div>\n",
              "  </div>\n"
            ],
            "application/vnd.google.colaboratory.intrinsic+json": {
              "type": "dataframe",
              "variable_name": "df_bancos",
              "summary": "{\n  \"name\": \"df_bancos\",\n  \"rows\": 10,\n  \"fields\": [\n    {\n      \"column\": \"Bank Name\",\n      \"properties\": {\n        \"dtype\": \"string\",\n        \"num_unique_values\": 10,\n        \"samples\": [\n          \"The First State Bank\",\n          \"Citizens Bank\",\n          \"Silicon Valley Bank\"\n        ],\n        \"semantic_type\": \"\",\n        \"description\": \"\"\n      }\n    },\n    {\n      \"column\": \"City\",\n      \"properties\": {\n        \"dtype\": \"string\",\n        \"num_unique_values\": 10,\n        \"samples\": [\n          \"Barboursville\",\n          \"Sac City\",\n          \"Santa Clara\"\n        ],\n        \"semantic_type\": \"\",\n        \"description\": \"\"\n      }\n    },\n    {\n      \"column\": \"State\",\n      \"properties\": {\n        \"dtype\": \"string\",\n        \"num_unique_values\": 8,\n        \"samples\": [\n          \"Iowa\",\n          \"Florida\",\n          \"Pennsylvania\"\n        ],\n        \"semantic_type\": \"\",\n        \"description\": \"\"\n      }\n    },\n    {\n      \"column\": \"Cert\",\n      \"properties\": {\n        \"dtype\": \"number\",\n        \"std\": 17455,\n        \"min\": 8758,\n        \"max\": 59017,\n        \"num_unique_values\": 10,\n        \"samples\": [\n          14361,\n          8758,\n          24735\n        ],\n        \"semantic_type\": \"\",\n        \"description\": \"\"\n      }\n    },\n    {\n      \"column\": \"Aquiring Institution\",\n      \"properties\": {\n        \"dtype\": \"string\",\n        \"num_unique_values\": 10,\n        \"samples\": [\n          \"MVB Bank, Inc.\",\n          \"Iowa Trust & Savings Bank\",\n          \"First Citizens Bank & Trust Company\"\n        ],\n        \"semantic_type\": \"\",\n        \"description\": \"\"\n      }\n    },\n    {\n      \"column\": \"Closing Date\",\n      \"properties\": {\n        \"dtype\": \"object\",\n        \"num_unique_values\": 10,\n        \"samples\": [\n          \"April 3, 2020\",\n          \"November 3, 2023\",\n          \"March 10, 2023\"\n        ],\n        \"semantic_type\": \"\",\n        \"description\": \"\"\n      }\n    },\n    {\n      \"column\": \"Fund\",\n      \"properties\": {\n        \"dtype\": \"number\",\n        \"std\": 3,\n        \"min\": 10535,\n        \"max\": 10546,\n        \"num_unique_values\": 10,\n        \"samples\": [\n          10536,\n          10545,\n          10539\n        ],\n        \"semantic_type\": \"\",\n        \"description\": \"\"\n      }\n    }\n  ]\n}"
            }
          },
          "metadata": {},
          "execution_count": 26
        }
      ]
    },
    {
      "cell_type": "code",
      "source": [
        "import pandas as pd\n",
        "\n",
        "# Criar um dicionário com nomes e idades\n",
        "dados = {\n",
        "    'Nome': ['Alice', 'Bob', 'Carol', 'David', 'Eve'],\n",
        "    'Idade': [25, 30, 22, 35, 28]\n",
        "}\n",
        "\n",
        "# Criar uma série a partir do dicionário\n",
        "serie_idades = pd.Series(dados['Idade'], index=dados['Nome'])\n",
        "\n",
        "# Exibir a série de idades\n",
        "print(\"Série de Idades:\")\n",
        "print(serie_idades)\n",
        "\n",
        "# Calcular a média das idades\n",
        "\n",
        "media_idades = serie_idades.mean()\n",
        "\n",
        "print(\"\\nMédia de Idades:\", media_idades)"
      ],
      "metadata": {
        "colab": {
          "base_uri": "https://localhost:8080/"
        },
        "id": "KCnl8VcvEacc",
        "outputId": "3bc98dd0-458b-4878-f80f-364f74c8ef6f"
      },
      "execution_count": null,
      "outputs": [
        {
          "output_type": "stream",
          "name": "stdout",
          "text": [
            "Série de Idades:\n",
            "Alice    25\n",
            "Bob      30\n",
            "Carol    22\n",
            "David    35\n",
            "Eve      28\n",
            "dtype: int64\n",
            "\n",
            "Média de Idades: 28.0\n"
          ]
        }
      ]
    },
    {
      "cell_type": "code",
      "source": [
        "# Introdução a Manipulação de Dados em Panda\n",
        "\n",
        "import pandas as pd\n",
        "\n",
        "df_selic = pd.read_json(\"https://api.bcb.gov.br/dados/serie/bcdata.sgs.11/dados?formato=json\")\n",
        "\n",
        "print(df_selic.info())\n",
        "print(df_selic)"
      ],
      "metadata": {
        "id": "pfLEiJBpGIOQ",
        "colab": {
          "base_uri": "https://localhost:8080/"
        },
        "outputId": "a7f35b22-7366-48f4-b719-8dd28124357a"
      },
      "execution_count": null,
      "outputs": [
        {
          "output_type": "stream",
          "name": "stdout",
          "text": [
            "<class 'pandas.core.frame.DataFrame'>\n",
            "RangeIndex: 9607 entries, 0 to 9606\n",
            "Data columns (total 2 columns):\n",
            " #   Column  Non-Null Count  Dtype  \n",
            "---  ------  --------------  -----  \n",
            " 0   data    9607 non-null   object \n",
            " 1   valor   9607 non-null   float64\n",
            "dtypes: float64(1), object(1)\n",
            "memory usage: 150.2+ KB\n",
            "None\n",
            "            data     valor\n",
            "0     04/06/1986  0.065041\n",
            "1     05/06/1986  0.067397\n",
            "2     06/06/1986  0.066740\n",
            "3     09/06/1986  0.068247\n",
            "4     10/06/1986  0.067041\n",
            "...          ...       ...\n",
            "9602  23/09/2024  0.040168\n",
            "9603  24/09/2024  0.040168\n",
            "9604  25/09/2024  0.040168\n",
            "9605  26/09/2024  0.040168\n",
            "9606  27/09/2024  0.040168\n",
            "\n",
            "[9607 rows x 2 columns]\n"
          ]
        }
      ]
    },
    {
      "cell_type": "code",
      "source": [
        "df_selic.drop_duplicates(keep='last', inplace=True)\n",
        "print(df_selic)"
      ],
      "metadata": {
        "colab": {
          "base_uri": "https://localhost:8080/"
        },
        "id": "ZcpW-7fitant",
        "outputId": "947d9227-d9cf-402b-d2c4-ed89d9863758"
      },
      "execution_count": null,
      "outputs": [
        {
          "output_type": "stream",
          "name": "stdout",
          "text": [
            "            data     valor data_extracao responsavel\n",
            "0     04/06/1986  0.065041    2024-09-29       Autor\n",
            "1     05/06/1986  0.067397    2024-09-29       Autor\n",
            "2     06/06/1986  0.066740    2024-09-29       Autor\n",
            "3     09/06/1986  0.068247    2024-09-29       Autor\n",
            "4     10/06/1986  0.067041    2024-09-29       Autor\n",
            "...          ...       ...           ...         ...\n",
            "9602  23/09/2024  0.040168    2024-09-29       Autor\n",
            "9603  24/09/2024  0.040168    2024-09-29       Autor\n",
            "9604  25/09/2024  0.040168    2024-09-29       Autor\n",
            "9605  26/09/2024  0.040168    2024-09-29       Autor\n",
            "9606  27/09/2024  0.040168    2024-09-29       Autor\n",
            "\n",
            "[9607 rows x 4 columns]\n"
          ]
        }
      ]
    },
    {
      "cell_type": "code",
      "source": [
        "from datetime import date\n",
        "from datetime import datetime as dt\n",
        "\n",
        "data_extracao = date.today()\n",
        "\n",
        "df_selic['data_extracao'] = data_extracao\n",
        "df_selic['responsavel'] = \"ARTUR\"\n",
        "\n",
        "print(df_selic.info())\n",
        "\n",
        "df_selic.head(10)"
      ],
      "metadata": {
        "colab": {
          "base_uri": "https://localhost:8080/",
          "height": 589
        },
        "id": "K7uMe54xsw2e",
        "outputId": "e3a0606f-a957-4cc6-f747-70c130328439"
      },
      "execution_count": null,
      "outputs": [
        {
          "output_type": "stream",
          "name": "stdout",
          "text": [
            "<class 'pandas.core.frame.DataFrame'>\n",
            "RangeIndex: 9607 entries, 0 to 9606\n",
            "Data columns (total 4 columns):\n",
            " #   Column         Non-Null Count  Dtype  \n",
            "---  ------         --------------  -----  \n",
            " 0   data           9607 non-null   object \n",
            " 1   valor          9607 non-null   float64\n",
            " 2   data_extracao  9607 non-null   object \n",
            " 3   responsavel    9607 non-null   object \n",
            "dtypes: float64(1), object(3)\n",
            "memory usage: 300.3+ KB\n",
            "None\n"
          ]
        },
        {
          "output_type": "execute_result",
          "data": {
            "text/plain": [
              "         data     valor data_extracao responsavel\n",
              "0  04/06/1986  0.065041    2024-09-29       ARTUR\n",
              "1  05/06/1986  0.067397    2024-09-29       ARTUR\n",
              "2  06/06/1986  0.066740    2024-09-29       ARTUR\n",
              "3  09/06/1986  0.068247    2024-09-29       ARTUR\n",
              "4  10/06/1986  0.067041    2024-09-29       ARTUR\n",
              "5  11/06/1986  0.066740    2024-09-29       ARTUR\n",
              "6  12/06/1986  0.066575    2024-09-29       ARTUR\n",
              "7  13/06/1986  0.066164    2024-09-29       ARTUR\n",
              "8  16/06/1986  0.066493    2024-09-29       ARTUR\n",
              "9  17/06/1986  0.066247    2024-09-29       ARTUR"
            ],
            "text/html": [
              "\n",
              "  <div id=\"df-ff0c678e-930d-4c47-9977-f14f7eb45c7c\" class=\"colab-df-container\">\n",
              "    <div>\n",
              "<style scoped>\n",
              "    .dataframe tbody tr th:only-of-type {\n",
              "        vertical-align: middle;\n",
              "    }\n",
              "\n",
              "    .dataframe tbody tr th {\n",
              "        vertical-align: top;\n",
              "    }\n",
              "\n",
              "    .dataframe thead th {\n",
              "        text-align: right;\n",
              "    }\n",
              "</style>\n",
              "<table border=\"1\" class=\"dataframe\">\n",
              "  <thead>\n",
              "    <tr style=\"text-align: right;\">\n",
              "      <th></th>\n",
              "      <th>data</th>\n",
              "      <th>valor</th>\n",
              "      <th>data_extracao</th>\n",
              "      <th>responsavel</th>\n",
              "    </tr>\n",
              "  </thead>\n",
              "  <tbody>\n",
              "    <tr>\n",
              "      <th>0</th>\n",
              "      <td>04/06/1986</td>\n",
              "      <td>0.065041</td>\n",
              "      <td>2024-09-29</td>\n",
              "      <td>ARTUR</td>\n",
              "    </tr>\n",
              "    <tr>\n",
              "      <th>1</th>\n",
              "      <td>05/06/1986</td>\n",
              "      <td>0.067397</td>\n",
              "      <td>2024-09-29</td>\n",
              "      <td>ARTUR</td>\n",
              "    </tr>\n",
              "    <tr>\n",
              "      <th>2</th>\n",
              "      <td>06/06/1986</td>\n",
              "      <td>0.066740</td>\n",
              "      <td>2024-09-29</td>\n",
              "      <td>ARTUR</td>\n",
              "    </tr>\n",
              "    <tr>\n",
              "      <th>3</th>\n",
              "      <td>09/06/1986</td>\n",
              "      <td>0.068247</td>\n",
              "      <td>2024-09-29</td>\n",
              "      <td>ARTUR</td>\n",
              "    </tr>\n",
              "    <tr>\n",
              "      <th>4</th>\n",
              "      <td>10/06/1986</td>\n",
              "      <td>0.067041</td>\n",
              "      <td>2024-09-29</td>\n",
              "      <td>ARTUR</td>\n",
              "    </tr>\n",
              "    <tr>\n",
              "      <th>5</th>\n",
              "      <td>11/06/1986</td>\n",
              "      <td>0.066740</td>\n",
              "      <td>2024-09-29</td>\n",
              "      <td>ARTUR</td>\n",
              "    </tr>\n",
              "    <tr>\n",
              "      <th>6</th>\n",
              "      <td>12/06/1986</td>\n",
              "      <td>0.066575</td>\n",
              "      <td>2024-09-29</td>\n",
              "      <td>ARTUR</td>\n",
              "    </tr>\n",
              "    <tr>\n",
              "      <th>7</th>\n",
              "      <td>13/06/1986</td>\n",
              "      <td>0.066164</td>\n",
              "      <td>2024-09-29</td>\n",
              "      <td>ARTUR</td>\n",
              "    </tr>\n",
              "    <tr>\n",
              "      <th>8</th>\n",
              "      <td>16/06/1986</td>\n",
              "      <td>0.066493</td>\n",
              "      <td>2024-09-29</td>\n",
              "      <td>ARTUR</td>\n",
              "    </tr>\n",
              "    <tr>\n",
              "      <th>9</th>\n",
              "      <td>17/06/1986</td>\n",
              "      <td>0.066247</td>\n",
              "      <td>2024-09-29</td>\n",
              "      <td>ARTUR</td>\n",
              "    </tr>\n",
              "  </tbody>\n",
              "</table>\n",
              "</div>\n",
              "    <div class=\"colab-df-buttons\">\n",
              "\n",
              "  <div class=\"colab-df-container\">\n",
              "    <button class=\"colab-df-convert\" onclick=\"convertToInteractive('df-ff0c678e-930d-4c47-9977-f14f7eb45c7c')\"\n",
              "            title=\"Convert this dataframe to an interactive table.\"\n",
              "            style=\"display:none;\">\n",
              "\n",
              "  <svg xmlns=\"http://www.w3.org/2000/svg\" height=\"24px\" viewBox=\"0 -960 960 960\">\n",
              "    <path d=\"M120-120v-720h720v720H120Zm60-500h600v-160H180v160Zm220 220h160v-160H400v160Zm0 220h160v-160H400v160ZM180-400h160v-160H180v160Zm440 0h160v-160H620v160ZM180-180h160v-160H180v160Zm440 0h160v-160H620v160Z\"/>\n",
              "  </svg>\n",
              "    </button>\n",
              "\n",
              "  <style>\n",
              "    .colab-df-container {\n",
              "      display:flex;\n",
              "      gap: 12px;\n",
              "    }\n",
              "\n",
              "    .colab-df-convert {\n",
              "      background-color: #E8F0FE;\n",
              "      border: none;\n",
              "      border-radius: 50%;\n",
              "      cursor: pointer;\n",
              "      display: none;\n",
              "      fill: #1967D2;\n",
              "      height: 32px;\n",
              "      padding: 0 0 0 0;\n",
              "      width: 32px;\n",
              "    }\n",
              "\n",
              "    .colab-df-convert:hover {\n",
              "      background-color: #E2EBFA;\n",
              "      box-shadow: 0px 1px 2px rgba(60, 64, 67, 0.3), 0px 1px 3px 1px rgba(60, 64, 67, 0.15);\n",
              "      fill: #174EA6;\n",
              "    }\n",
              "\n",
              "    .colab-df-buttons div {\n",
              "      margin-bottom: 4px;\n",
              "    }\n",
              "\n",
              "    [theme=dark] .colab-df-convert {\n",
              "      background-color: #3B4455;\n",
              "      fill: #D2E3FC;\n",
              "    }\n",
              "\n",
              "    [theme=dark] .colab-df-convert:hover {\n",
              "      background-color: #434B5C;\n",
              "      box-shadow: 0px 1px 3px 1px rgba(0, 0, 0, 0.15);\n",
              "      filter: drop-shadow(0px 1px 2px rgba(0, 0, 0, 0.3));\n",
              "      fill: #FFFFFF;\n",
              "    }\n",
              "  </style>\n",
              "\n",
              "    <script>\n",
              "      const buttonEl =\n",
              "        document.querySelector('#df-ff0c678e-930d-4c47-9977-f14f7eb45c7c button.colab-df-convert');\n",
              "      buttonEl.style.display =\n",
              "        google.colab.kernel.accessAllowed ? 'block' : 'none';\n",
              "\n",
              "      async function convertToInteractive(key) {\n",
              "        const element = document.querySelector('#df-ff0c678e-930d-4c47-9977-f14f7eb45c7c');\n",
              "        const dataTable =\n",
              "          await google.colab.kernel.invokeFunction('convertToInteractive',\n",
              "                                                    [key], {});\n",
              "        if (!dataTable) return;\n",
              "\n",
              "        const docLinkHtml = 'Like what you see? Visit the ' +\n",
              "          '<a target=\"_blank\" href=https://colab.research.google.com/notebooks/data_table.ipynb>data table notebook</a>'\n",
              "          + ' to learn more about interactive tables.';\n",
              "        element.innerHTML = '';\n",
              "        dataTable['output_type'] = 'display_data';\n",
              "        await google.colab.output.renderOutput(dataTable, element);\n",
              "        const docLink = document.createElement('div');\n",
              "        docLink.innerHTML = docLinkHtml;\n",
              "        element.appendChild(docLink);\n",
              "      }\n",
              "    </script>\n",
              "  </div>\n",
              "\n",
              "\n",
              "<div id=\"df-e9db4edf-a4f3-4577-8d1e-909d66a2db21\">\n",
              "  <button class=\"colab-df-quickchart\" onclick=\"quickchart('df-e9db4edf-a4f3-4577-8d1e-909d66a2db21')\"\n",
              "            title=\"Suggest charts\"\n",
              "            style=\"display:none;\">\n",
              "\n",
              "<svg xmlns=\"http://www.w3.org/2000/svg\" height=\"24px\"viewBox=\"0 0 24 24\"\n",
              "     width=\"24px\">\n",
              "    <g>\n",
              "        <path d=\"M19 3H5c-1.1 0-2 .9-2 2v14c0 1.1.9 2 2 2h14c1.1 0 2-.9 2-2V5c0-1.1-.9-2-2-2zM9 17H7v-7h2v7zm4 0h-2V7h2v10zm4 0h-2v-4h2v4z\"/>\n",
              "    </g>\n",
              "</svg>\n",
              "  </button>\n",
              "\n",
              "<style>\n",
              "  .colab-df-quickchart {\n",
              "      --bg-color: #E8F0FE;\n",
              "      --fill-color: #1967D2;\n",
              "      --hover-bg-color: #E2EBFA;\n",
              "      --hover-fill-color: #174EA6;\n",
              "      --disabled-fill-color: #AAA;\n",
              "      --disabled-bg-color: #DDD;\n",
              "  }\n",
              "\n",
              "  [theme=dark] .colab-df-quickchart {\n",
              "      --bg-color: #3B4455;\n",
              "      --fill-color: #D2E3FC;\n",
              "      --hover-bg-color: #434B5C;\n",
              "      --hover-fill-color: #FFFFFF;\n",
              "      --disabled-bg-color: #3B4455;\n",
              "      --disabled-fill-color: #666;\n",
              "  }\n",
              "\n",
              "  .colab-df-quickchart {\n",
              "    background-color: var(--bg-color);\n",
              "    border: none;\n",
              "    border-radius: 50%;\n",
              "    cursor: pointer;\n",
              "    display: none;\n",
              "    fill: var(--fill-color);\n",
              "    height: 32px;\n",
              "    padding: 0;\n",
              "    width: 32px;\n",
              "  }\n",
              "\n",
              "  .colab-df-quickchart:hover {\n",
              "    background-color: var(--hover-bg-color);\n",
              "    box-shadow: 0 1px 2px rgba(60, 64, 67, 0.3), 0 1px 3px 1px rgba(60, 64, 67, 0.15);\n",
              "    fill: var(--button-hover-fill-color);\n",
              "  }\n",
              "\n",
              "  .colab-df-quickchart-complete:disabled,\n",
              "  .colab-df-quickchart-complete:disabled:hover {\n",
              "    background-color: var(--disabled-bg-color);\n",
              "    fill: var(--disabled-fill-color);\n",
              "    box-shadow: none;\n",
              "  }\n",
              "\n",
              "  .colab-df-spinner {\n",
              "    border: 2px solid var(--fill-color);\n",
              "    border-color: transparent;\n",
              "    border-bottom-color: var(--fill-color);\n",
              "    animation:\n",
              "      spin 1s steps(1) infinite;\n",
              "  }\n",
              "\n",
              "  @keyframes spin {\n",
              "    0% {\n",
              "      border-color: transparent;\n",
              "      border-bottom-color: var(--fill-color);\n",
              "      border-left-color: var(--fill-color);\n",
              "    }\n",
              "    20% {\n",
              "      border-color: transparent;\n",
              "      border-left-color: var(--fill-color);\n",
              "      border-top-color: var(--fill-color);\n",
              "    }\n",
              "    30% {\n",
              "      border-color: transparent;\n",
              "      border-left-color: var(--fill-color);\n",
              "      border-top-color: var(--fill-color);\n",
              "      border-right-color: var(--fill-color);\n",
              "    }\n",
              "    40% {\n",
              "      border-color: transparent;\n",
              "      border-right-color: var(--fill-color);\n",
              "      border-top-color: var(--fill-color);\n",
              "    }\n",
              "    60% {\n",
              "      border-color: transparent;\n",
              "      border-right-color: var(--fill-color);\n",
              "    }\n",
              "    80% {\n",
              "      border-color: transparent;\n",
              "      border-right-color: var(--fill-color);\n",
              "      border-bottom-color: var(--fill-color);\n",
              "    }\n",
              "    90% {\n",
              "      border-color: transparent;\n",
              "      border-bottom-color: var(--fill-color);\n",
              "    }\n",
              "  }\n",
              "</style>\n",
              "\n",
              "  <script>\n",
              "    async function quickchart(key) {\n",
              "      const quickchartButtonEl =\n",
              "        document.querySelector('#' + key + ' button');\n",
              "      quickchartButtonEl.disabled = true;  // To prevent multiple clicks.\n",
              "      quickchartButtonEl.classList.add('colab-df-spinner');\n",
              "      try {\n",
              "        const charts = await google.colab.kernel.invokeFunction(\n",
              "            'suggestCharts', [key], {});\n",
              "      } catch (error) {\n",
              "        console.error('Error during call to suggestCharts:', error);\n",
              "      }\n",
              "      quickchartButtonEl.classList.remove('colab-df-spinner');\n",
              "      quickchartButtonEl.classList.add('colab-df-quickchart-complete');\n",
              "    }\n",
              "    (() => {\n",
              "      let quickchartButtonEl =\n",
              "        document.querySelector('#df-e9db4edf-a4f3-4577-8d1e-909d66a2db21 button');\n",
              "      quickchartButtonEl.style.display =\n",
              "        google.colab.kernel.accessAllowed ? 'block' : 'none';\n",
              "    })();\n",
              "  </script>\n",
              "</div>\n",
              "\n",
              "    </div>\n",
              "  </div>\n"
            ],
            "application/vnd.google.colaboratory.intrinsic+json": {
              "type": "dataframe",
              "variable_name": "df_selic",
              "summary": "{\n  \"name\": \"df_selic\",\n  \"rows\": 9607,\n  \"fields\": [\n    {\n      \"column\": \"data\",\n      \"properties\": {\n        \"dtype\": \"string\",\n        \"num_unique_values\": 9607,\n        \"samples\": [\n          \"24/11/1994\",\n          \"27/10/2006\",\n          \"22/02/2022\"\n        ],\n        \"semantic_type\": \"\",\n        \"description\": \"\"\n      }\n    },\n    {\n      \"column\": \"valor\",\n      \"properties\": {\n        \"dtype\": \"number\",\n        \"std\": 0.4749072245592751,\n        \"min\": 0.0,\n        \"max\": 3.626,\n        \"num_unique_values\": 2612,\n        \"samples\": [\n          0.420667,\n          1.971562,\n          1.061425\n        ],\n        \"semantic_type\": \"\",\n        \"description\": \"\"\n      }\n    },\n    {\n      \"column\": \"data_extracao\",\n      \"properties\": {\n        \"dtype\": \"date\",\n        \"min\": \"2024-09-29\",\n        \"max\": \"2024-09-29\",\n        \"num_unique_values\": 1,\n        \"samples\": [\n          \"2024-09-29\"\n        ],\n        \"semantic_type\": \"\",\n        \"description\": \"\"\n      }\n    },\n    {\n      \"column\": \"responsavel\",\n      \"properties\": {\n        \"dtype\": \"category\",\n        \"num_unique_values\": 1,\n        \"samples\": [\n          \"ARTUR\"\n        ],\n        \"semantic_type\": \"\",\n        \"description\": \"\"\n      }\n    }\n  ]\n}"
            }
          },
          "metadata": {},
          "execution_count": 12
        }
      ]
    },
    {
      "cell_type": "code",
      "source": [
        "print(df_selic)"
      ],
      "metadata": {
        "colab": {
          "base_uri": "https://localhost:8080/"
        },
        "id": "-Py5nsoGuRNe",
        "outputId": "f4d44567-f983-4003-c09e-9a93da9e474d"
      },
      "execution_count": null,
      "outputs": [
        {
          "output_type": "stream",
          "name": "stdout",
          "text": [
            "            data     valor data_extracao responsavel\n",
            "0     04/06/1986  0.065041    2024-09-29       ARTUR\n",
            "1     05/06/1986  0.067397    2024-09-29       ARTUR\n",
            "2     06/06/1986  0.066740    2024-09-29       ARTUR\n",
            "3     09/06/1986  0.068247    2024-09-29       ARTUR\n",
            "4     10/06/1986  0.067041    2024-09-29       ARTUR\n",
            "...          ...       ...           ...         ...\n",
            "9602  23/09/2024  0.040168    2024-09-29       ARTUR\n",
            "9603  24/09/2024  0.040168    2024-09-29       ARTUR\n",
            "9604  25/09/2024  0.040168    2024-09-29       ARTUR\n",
            "9605  26/09/2024  0.040168    2024-09-29       ARTUR\n",
            "9606  27/09/2024  0.040168    2024-09-29       ARTUR\n",
            "\n",
            "[9607 rows x 4 columns]\n"
          ]
        }
      ]
    },
    {
      "cell_type": "code",
      "source": [
        "df_selic.loc[9301]"
      ],
      "metadata": {
        "colab": {
          "base_uri": "https://localhost:8080/",
          "height": 210
        },
        "id": "dkXoPmuQuswe",
        "outputId": "d3d18e29-b15e-4249-baa9-035ea1beef93"
      },
      "execution_count": null,
      "outputs": [
        {
          "output_type": "execute_result",
          "data": {
            "text/plain": [
              "data             13/07/2023\n",
              "valor              0.050788\n",
              "data_extracao    2024-09-29\n",
              "responsavel           ARTUR\n",
              "Name: 9301, dtype: object"
            ],
            "text/html": [
              "<div>\n",
              "<style scoped>\n",
              "    .dataframe tbody tr th:only-of-type {\n",
              "        vertical-align: middle;\n",
              "    }\n",
              "\n",
              "    .dataframe tbody tr th {\n",
              "        vertical-align: top;\n",
              "    }\n",
              "\n",
              "    .dataframe thead th {\n",
              "        text-align: right;\n",
              "    }\n",
              "</style>\n",
              "<table border=\"1\" class=\"dataframe\">\n",
              "  <thead>\n",
              "    <tr style=\"text-align: right;\">\n",
              "      <th></th>\n",
              "      <th>9301</th>\n",
              "    </tr>\n",
              "  </thead>\n",
              "  <tbody>\n",
              "    <tr>\n",
              "      <th>data</th>\n",
              "      <td>13/07/2023</td>\n",
              "    </tr>\n",
              "    <tr>\n",
              "      <th>valor</th>\n",
              "      <td>0.050788</td>\n",
              "    </tr>\n",
              "    <tr>\n",
              "      <th>data_extracao</th>\n",
              "      <td>2024-09-29</td>\n",
              "    </tr>\n",
              "    <tr>\n",
              "      <th>responsavel</th>\n",
              "      <td>ARTUR</td>\n",
              "    </tr>\n",
              "  </tbody>\n",
              "</table>\n",
              "</div><br><label><b>dtype:</b> object</label>"
            ]
          },
          "metadata": {},
          "execution_count": 14
        }
      ]
    },
    {
      "cell_type": "code",
      "source": [
        "df_selic.loc[[0,20,70]]"
      ],
      "metadata": {
        "colab": {
          "base_uri": "https://localhost:8080/",
          "height": 144
        },
        "id": "UimjIjcoutVO",
        "outputId": "b1953d09-1dd0-487c-ef43-7ab8ee2a01a4"
      },
      "execution_count": null,
      "outputs": [
        {
          "output_type": "execute_result",
          "data": {
            "text/plain": [
              "          data     valor data_extracao responsavel\n",
              "0   04/06/1986  0.065041    2024-09-29       ARTUR\n",
              "20  02/07/1986  0.068301    2024-09-29       ARTUR\n",
              "70  10/09/1986  0.131315    2024-09-29       ARTUR"
            ],
            "text/html": [
              "\n",
              "  <div id=\"df-d881b4bb-585f-4f6a-b8f0-e000221b6441\" class=\"colab-df-container\">\n",
              "    <div>\n",
              "<style scoped>\n",
              "    .dataframe tbody tr th:only-of-type {\n",
              "        vertical-align: middle;\n",
              "    }\n",
              "\n",
              "    .dataframe tbody tr th {\n",
              "        vertical-align: top;\n",
              "    }\n",
              "\n",
              "    .dataframe thead th {\n",
              "        text-align: right;\n",
              "    }\n",
              "</style>\n",
              "<table border=\"1\" class=\"dataframe\">\n",
              "  <thead>\n",
              "    <tr style=\"text-align: right;\">\n",
              "      <th></th>\n",
              "      <th>data</th>\n",
              "      <th>valor</th>\n",
              "      <th>data_extracao</th>\n",
              "      <th>responsavel</th>\n",
              "    </tr>\n",
              "  </thead>\n",
              "  <tbody>\n",
              "    <tr>\n",
              "      <th>0</th>\n",
              "      <td>04/06/1986</td>\n",
              "      <td>0.065041</td>\n",
              "      <td>2024-09-29</td>\n",
              "      <td>ARTUR</td>\n",
              "    </tr>\n",
              "    <tr>\n",
              "      <th>20</th>\n",
              "      <td>02/07/1986</td>\n",
              "      <td>0.068301</td>\n",
              "      <td>2024-09-29</td>\n",
              "      <td>ARTUR</td>\n",
              "    </tr>\n",
              "    <tr>\n",
              "      <th>70</th>\n",
              "      <td>10/09/1986</td>\n",
              "      <td>0.131315</td>\n",
              "      <td>2024-09-29</td>\n",
              "      <td>ARTUR</td>\n",
              "    </tr>\n",
              "  </tbody>\n",
              "</table>\n",
              "</div>\n",
              "    <div class=\"colab-df-buttons\">\n",
              "\n",
              "  <div class=\"colab-df-container\">\n",
              "    <button class=\"colab-df-convert\" onclick=\"convertToInteractive('df-d881b4bb-585f-4f6a-b8f0-e000221b6441')\"\n",
              "            title=\"Convert this dataframe to an interactive table.\"\n",
              "            style=\"display:none;\">\n",
              "\n",
              "  <svg xmlns=\"http://www.w3.org/2000/svg\" height=\"24px\" viewBox=\"0 -960 960 960\">\n",
              "    <path d=\"M120-120v-720h720v720H120Zm60-500h600v-160H180v160Zm220 220h160v-160H400v160Zm0 220h160v-160H400v160ZM180-400h160v-160H180v160Zm440 0h160v-160H620v160ZM180-180h160v-160H180v160Zm440 0h160v-160H620v160Z\"/>\n",
              "  </svg>\n",
              "    </button>\n",
              "\n",
              "  <style>\n",
              "    .colab-df-container {\n",
              "      display:flex;\n",
              "      gap: 12px;\n",
              "    }\n",
              "\n",
              "    .colab-df-convert {\n",
              "      background-color: #E8F0FE;\n",
              "      border: none;\n",
              "      border-radius: 50%;\n",
              "      cursor: pointer;\n",
              "      display: none;\n",
              "      fill: #1967D2;\n",
              "      height: 32px;\n",
              "      padding: 0 0 0 0;\n",
              "      width: 32px;\n",
              "    }\n",
              "\n",
              "    .colab-df-convert:hover {\n",
              "      background-color: #E2EBFA;\n",
              "      box-shadow: 0px 1px 2px rgba(60, 64, 67, 0.3), 0px 1px 3px 1px rgba(60, 64, 67, 0.15);\n",
              "      fill: #174EA6;\n",
              "    }\n",
              "\n",
              "    .colab-df-buttons div {\n",
              "      margin-bottom: 4px;\n",
              "    }\n",
              "\n",
              "    [theme=dark] .colab-df-convert {\n",
              "      background-color: #3B4455;\n",
              "      fill: #D2E3FC;\n",
              "    }\n",
              "\n",
              "    [theme=dark] .colab-df-convert:hover {\n",
              "      background-color: #434B5C;\n",
              "      box-shadow: 0px 1px 3px 1px rgba(0, 0, 0, 0.15);\n",
              "      filter: drop-shadow(0px 1px 2px rgba(0, 0, 0, 0.3));\n",
              "      fill: #FFFFFF;\n",
              "    }\n",
              "  </style>\n",
              "\n",
              "    <script>\n",
              "      const buttonEl =\n",
              "        document.querySelector('#df-d881b4bb-585f-4f6a-b8f0-e000221b6441 button.colab-df-convert');\n",
              "      buttonEl.style.display =\n",
              "        google.colab.kernel.accessAllowed ? 'block' : 'none';\n",
              "\n",
              "      async function convertToInteractive(key) {\n",
              "        const element = document.querySelector('#df-d881b4bb-585f-4f6a-b8f0-e000221b6441');\n",
              "        const dataTable =\n",
              "          await google.colab.kernel.invokeFunction('convertToInteractive',\n",
              "                                                    [key], {});\n",
              "        if (!dataTable) return;\n",
              "\n",
              "        const docLinkHtml = 'Like what you see? Visit the ' +\n",
              "          '<a target=\"_blank\" href=https://colab.research.google.com/notebooks/data_table.ipynb>data table notebook</a>'\n",
              "          + ' to learn more about interactive tables.';\n",
              "        element.innerHTML = '';\n",
              "        dataTable['output_type'] = 'display_data';\n",
              "        await google.colab.output.renderOutput(dataTable, element);\n",
              "        const docLink = document.createElement('div');\n",
              "        docLink.innerHTML = docLinkHtml;\n",
              "        element.appendChild(docLink);\n",
              "      }\n",
              "    </script>\n",
              "  </div>\n",
              "\n",
              "\n",
              "<div id=\"df-463802e2-6180-4dc5-923d-56a721954d69\">\n",
              "  <button class=\"colab-df-quickchart\" onclick=\"quickchart('df-463802e2-6180-4dc5-923d-56a721954d69')\"\n",
              "            title=\"Suggest charts\"\n",
              "            style=\"display:none;\">\n",
              "\n",
              "<svg xmlns=\"http://www.w3.org/2000/svg\" height=\"24px\"viewBox=\"0 0 24 24\"\n",
              "     width=\"24px\">\n",
              "    <g>\n",
              "        <path d=\"M19 3H5c-1.1 0-2 .9-2 2v14c0 1.1.9 2 2 2h14c1.1 0 2-.9 2-2V5c0-1.1-.9-2-2-2zM9 17H7v-7h2v7zm4 0h-2V7h2v10zm4 0h-2v-4h2v4z\"/>\n",
              "    </g>\n",
              "</svg>\n",
              "  </button>\n",
              "\n",
              "<style>\n",
              "  .colab-df-quickchart {\n",
              "      --bg-color: #E8F0FE;\n",
              "      --fill-color: #1967D2;\n",
              "      --hover-bg-color: #E2EBFA;\n",
              "      --hover-fill-color: #174EA6;\n",
              "      --disabled-fill-color: #AAA;\n",
              "      --disabled-bg-color: #DDD;\n",
              "  }\n",
              "\n",
              "  [theme=dark] .colab-df-quickchart {\n",
              "      --bg-color: #3B4455;\n",
              "      --fill-color: #D2E3FC;\n",
              "      --hover-bg-color: #434B5C;\n",
              "      --hover-fill-color: #FFFFFF;\n",
              "      --disabled-bg-color: #3B4455;\n",
              "      --disabled-fill-color: #666;\n",
              "  }\n",
              "\n",
              "  .colab-df-quickchart {\n",
              "    background-color: var(--bg-color);\n",
              "    border: none;\n",
              "    border-radius: 50%;\n",
              "    cursor: pointer;\n",
              "    display: none;\n",
              "    fill: var(--fill-color);\n",
              "    height: 32px;\n",
              "    padding: 0;\n",
              "    width: 32px;\n",
              "  }\n",
              "\n",
              "  .colab-df-quickchart:hover {\n",
              "    background-color: var(--hover-bg-color);\n",
              "    box-shadow: 0 1px 2px rgba(60, 64, 67, 0.3), 0 1px 3px 1px rgba(60, 64, 67, 0.15);\n",
              "    fill: var(--button-hover-fill-color);\n",
              "  }\n",
              "\n",
              "  .colab-df-quickchart-complete:disabled,\n",
              "  .colab-df-quickchart-complete:disabled:hover {\n",
              "    background-color: var(--disabled-bg-color);\n",
              "    fill: var(--disabled-fill-color);\n",
              "    box-shadow: none;\n",
              "  }\n",
              "\n",
              "  .colab-df-spinner {\n",
              "    border: 2px solid var(--fill-color);\n",
              "    border-color: transparent;\n",
              "    border-bottom-color: var(--fill-color);\n",
              "    animation:\n",
              "      spin 1s steps(1) infinite;\n",
              "  }\n",
              "\n",
              "  @keyframes spin {\n",
              "    0% {\n",
              "      border-color: transparent;\n",
              "      border-bottom-color: var(--fill-color);\n",
              "      border-left-color: var(--fill-color);\n",
              "    }\n",
              "    20% {\n",
              "      border-color: transparent;\n",
              "      border-left-color: var(--fill-color);\n",
              "      border-top-color: var(--fill-color);\n",
              "    }\n",
              "    30% {\n",
              "      border-color: transparent;\n",
              "      border-left-color: var(--fill-color);\n",
              "      border-top-color: var(--fill-color);\n",
              "      border-right-color: var(--fill-color);\n",
              "    }\n",
              "    40% {\n",
              "      border-color: transparent;\n",
              "      border-right-color: var(--fill-color);\n",
              "      border-top-color: var(--fill-color);\n",
              "    }\n",
              "    60% {\n",
              "      border-color: transparent;\n",
              "      border-right-color: var(--fill-color);\n",
              "    }\n",
              "    80% {\n",
              "      border-color: transparent;\n",
              "      border-right-color: var(--fill-color);\n",
              "      border-bottom-color: var(--fill-color);\n",
              "    }\n",
              "    90% {\n",
              "      border-color: transparent;\n",
              "      border-bottom-color: var(--fill-color);\n",
              "    }\n",
              "  }\n",
              "</style>\n",
              "\n",
              "  <script>\n",
              "    async function quickchart(key) {\n",
              "      const quickchartButtonEl =\n",
              "        document.querySelector('#' + key + ' button');\n",
              "      quickchartButtonEl.disabled = true;  // To prevent multiple clicks.\n",
              "      quickchartButtonEl.classList.add('colab-df-spinner');\n",
              "      try {\n",
              "        const charts = await google.colab.kernel.invokeFunction(\n",
              "            'suggestCharts', [key], {});\n",
              "      } catch (error) {\n",
              "        console.error('Error during call to suggestCharts:', error);\n",
              "      }\n",
              "      quickchartButtonEl.classList.remove('colab-df-spinner');\n",
              "      quickchartButtonEl.classList.add('colab-df-quickchart-complete');\n",
              "    }\n",
              "    (() => {\n",
              "      let quickchartButtonEl =\n",
              "        document.querySelector('#df-463802e2-6180-4dc5-923d-56a721954d69 button');\n",
              "      quickchartButtonEl.style.display =\n",
              "        google.colab.kernel.accessAllowed ? 'block' : 'none';\n",
              "    })();\n",
              "  </script>\n",
              "</div>\n",
              "\n",
              "    </div>\n",
              "  </div>\n"
            ],
            "application/vnd.google.colaboratory.intrinsic+json": {
              "type": "dataframe",
              "summary": "{\n  \"name\": \"df_selic\",\n  \"rows\": 3,\n  \"fields\": [\n    {\n      \"column\": \"data\",\n      \"properties\": {\n        \"dtype\": \"object\",\n        \"num_unique_values\": 3,\n        \"samples\": [\n          \"04/06/1986\",\n          \"02/07/1986\",\n          \"10/09/1986\"\n        ],\n        \"semantic_type\": \"\",\n        \"description\": \"\"\n      }\n    },\n    {\n      \"column\": \"valor\",\n      \"properties\": {\n        \"dtype\": \"number\",\n        \"std\": 0.037357807912135305,\n        \"min\": 0.065041,\n        \"max\": 0.131315,\n        \"num_unique_values\": 3,\n        \"samples\": [\n          0.065041,\n          0.068301,\n          0.131315\n        ],\n        \"semantic_type\": \"\",\n        \"description\": \"\"\n      }\n    },\n    {\n      \"column\": \"data_extracao\",\n      \"properties\": {\n        \"dtype\": \"date\",\n        \"min\": \"2024-09-29\",\n        \"max\": \"2024-09-29\",\n        \"num_unique_values\": 1,\n        \"samples\": [\n          \"2024-09-29\"\n        ],\n        \"semantic_type\": \"\",\n        \"description\": \"\"\n      }\n    },\n    {\n      \"column\": \"responsavel\",\n      \"properties\": {\n        \"dtype\": \"category\",\n        \"num_unique_values\": 1,\n        \"samples\": [\n          \"ARTUR\"\n        ],\n        \"semantic_type\": \"\",\n        \"description\": \"\"\n      }\n    }\n  ]\n}"
            }
          },
          "metadata": {},
          "execution_count": 17
        }
      ]
    },
    {
      "cell_type": "code",
      "source": [
        "teste = df_selic['valor'] < 0.01\n",
        "\n",
        "print(type(teste))"
      ],
      "metadata": {
        "colab": {
          "base_uri": "https://localhost:8080/"
        },
        "id": "gl8MGKFnvBSv",
        "outputId": "a8615d7b-f27d-4624-9218-24e9c0dca6fd"
      },
      "execution_count": null,
      "outputs": [
        {
          "output_type": "stream",
          "name": "stdout",
          "text": [
            "<class 'pandas.core.series.Series'>\n"
          ]
        }
      ]
    },
    {
      "cell_type": "code",
      "source": [
        "print(teste)"
      ],
      "metadata": {
        "colab": {
          "base_uri": "https://localhost:8080/"
        },
        "id": "JBJyCBzTvFUd",
        "outputId": "afff8900-e9e6-485b-e209-927d136e103d"
      },
      "execution_count": null,
      "outputs": [
        {
          "output_type": "stream",
          "name": "stdout",
          "text": [
            "0       False\n",
            "1       False\n",
            "2       False\n",
            "3       False\n",
            "4       False\n",
            "        ...  \n",
            "9602    False\n",
            "9603    False\n",
            "9604    False\n",
            "9605    False\n",
            "9606    False\n",
            "Name: valor, Length: 9607, dtype: bool\n"
          ]
        }
      ]
    },
    {
      "cell_type": "code",
      "source": [
        "import pandas as pd\n",
        "\n",
        "# Criando um DataFrame com 5 linhas de dados\n",
        "data = {\n",
        "    'nome': ['Produto A', 'Produto B', 'Produto C', 'Produto A', 'Produto E'],\n",
        "    'quantidade de itens comprados': [3, 1, 4, 3, 2],\n",
        "    'tipo de item': ['Eletrônico', 'Vestuário', 'Alimento', 'Eletrônico', 'Alimento'],\n",
        "    'receita total': [120, 80, 60, 120, 90]\n",
        "}\n",
        "\n",
        "df = pd.DataFrame(data)\n",
        "print(df)"
      ],
      "metadata": {
        "colab": {
          "base_uri": "https://localhost:8080/"
        },
        "id": "LWhS8ufWvOMn",
        "outputId": "d3e8682d-bbde-4401-ad45-c67ca19eb7af"
      },
      "execution_count": null,
      "outputs": [
        {
          "output_type": "stream",
          "name": "stdout",
          "text": [
            "        nome  quantidade de itens comprados tipo de item  receita total\n",
            "0  Produto A                              3   Eletrônico            120\n",
            "1  Produto B                              1    Vestuário             80\n",
            "2  Produto C                              4     Alimento             60\n",
            "3  Produto A                              3   Eletrônico            120\n",
            "4  Produto E                              2     Alimento             90\n"
          ]
        }
      ]
    },
    {
      "cell_type": "code",
      "source": [
        "# Duplicando uma linha\n",
        "df.drop_duplicates(keep='last', inplace=True)\n",
        "print(df)"
      ],
      "metadata": {
        "colab": {
          "base_uri": "https://localhost:8080/"
        },
        "id": "JIP32X-Qvr9n",
        "outputId": "225ed719-a1d5-4a96-ee17-559e1636a326"
      },
      "execution_count": null,
      "outputs": [
        {
          "output_type": "stream",
          "name": "stdout",
          "text": [
            "        nome  quantidade de itens comprados tipo de item  receita total\n",
            "1  Produto B                              1    Vestuário             80\n",
            "2  Produto C                              4     Alimento             60\n",
            "3  Produto A                              3   Eletrônico            120\n",
            "4  Produto E                              2     Alimento             90\n"
          ]
        }
      ]
    },
    {
      "cell_type": "code",
      "source": [
        "# Calculando a coluna 'preço do item'\n",
        "df['preço do item'] = df['receita total'] / df['quantidade de itens comprados']\n",
        "\n",
        "# Selecionando preço do item acima de 50 reais\n",
        "itens_acima_de_50 = df[df['preço do item'] > 50]\n",
        "\n",
        "print(\"Itens acima de 50 reais:\")\n",
        "print(itens_acima_de_50)"
      ],
      "metadata": {
        "colab": {
          "base_uri": "https://localhost:8080/"
        },
        "id": "lzT4LiqAvvT1",
        "outputId": "6d48a611-6ed7-44b7-8e1d-b9755fec2799"
      },
      "execution_count": null,
      "outputs": [
        {
          "output_type": "stream",
          "name": "stdout",
          "text": [
            "Itens acima de 50 reais:\n",
            "        nome  quantidade de itens comprados tipo de item  receita total  \\\n",
            "1  Produto B                              1    Vestuário             80   \n",
            "\n",
            "   preço do item  \n",
            "1           80.0  \n"
          ]
        }
      ]
    },
    {
      "cell_type": "code",
      "source": [],
      "metadata": {
        "id": "-zbQFBx9wpuQ"
      },
      "execution_count": null,
      "outputs": []
    },
    {
      "cell_type": "code",
      "source": [
        "# Visualização de Dados em Python\n",
        "\n",
        "# Matplotlib\n",
        "\n"
      ],
      "metadata": {
        "id": "yf1PbKUlwqam"
      },
      "execution_count": null,
      "outputs": []
    },
    {
      "cell_type": "code",
      "source": [],
      "metadata": {
        "id": "LYkkHKdpxc_u"
      },
      "execution_count": null,
      "outputs": []
    },
    {
      "cell_type": "code",
      "source": [
        "import matplotlib.pyplot as plt\n",
        "import random\n",
        "\n",
        "dados1 = random.sample(range(100), k=20)\n",
        "dados2 = random.sample(range(100), k=20)\n",
        "\n",
        "print(dados2)\n",
        "\n",
        "plt.plot(dados1, dados2) # pyplot gerencia a figura e o eixo"
      ],
      "metadata": {
        "colab": {
          "base_uri": "https://localhost:8080/",
          "height": 468
        },
        "id": "JEsjdlfUxdre",
        "outputId": "551df258-2ecd-477f-c764-87ab9bd6c5d9"
      },
      "execution_count": null,
      "outputs": [
        {
          "output_type": "stream",
          "name": "stdout",
          "text": [
            "[89, 59, 84, 2, 97, 47, 25, 79, 40, 24, 22, 99, 76, 19, 68, 56, 29, 18, 54, 9]\n"
          ]
        },
        {
          "output_type": "execute_result",
          "data": {
            "text/plain": [
              "[<matplotlib.lines.Line2D at 0x7868ad6b4d90>]"
            ]
          },
          "metadata": {},
          "execution_count": 27
        },
        {
          "output_type": "display_data",
          "data": {
            "text/plain": [
              "<Figure size 640x480 with 1 Axes>"
            ],
            "image/png": "[encoded data removed]"
          },
          "metadata": {}
        }
      ]
    },
    {
      "cell_type": "code",
      "source": [
        "import pandas as pd\n",
        "\n",
        "dados = {\n",
        "    'Produto':['A', 'B', 'C'],\n",
        "    'qtde_vendida':[33, 50, 45]\n",
        "    }\n",
        "\n",
        "df = pd.DataFrame(dados)\n",
        "df.plot(x='Produto', y='qtde_vendida', kind='bar')"
      ],
      "metadata": {
        "colab": {
          "base_uri": "https://localhost:8080/",
          "height": 464
        },
        "id": "_ZpZjzv5x155",
        "outputId": "83047fe5-7e7c-4c0b-fbc7-6e18255c30e3"
      },
      "execution_count": null,
      "outputs": [
        {
          "output_type": "execute_result",
          "data": {
            "text/plain": [
              "<Axes: xlabel='Produto'>"
            ]
          },
          "metadata": {},
          "execution_count": 30
        },
        {
          "output_type": "display_data",
          "data": {
            "text/plain": [
              "<Figure size 640x480 with 1 Axes>"
            ],
            "image/png": "[encoded data removed]"
          },
          "metadata": {}
        }
      ]
    },
    {
      "cell_type": "code",
      "source": [
        "df.plot(x='Produto', y='qtde_vendida', kind='pie')"
      ],
      "metadata": {
        "colab": {
          "base_uri": "https://localhost:8080/",
          "height": 425
        },
        "id": "NO3jMSzpyEVG",
        "outputId": "b7683e68-75d8-450d-d449-5cebb474a0fd"
      },
      "execution_count": null,
      "outputs": [
        {
          "output_type": "execute_result",
          "data": {
            "text/plain": [
              "<Axes: ylabel='qtde_vendida'>"
            ]
          },
          "metadata": {},
          "execution_count": 35
        },
        {
          "output_type": "display_data",
          "data": {
            "text/plain": [
              "<Figure size 640x480 with 1 Axes>"
            ],
            "image/png": "[encoded data removed]"
          },
          "metadata": {}
        }
      ]
    },
    {
      "cell_type": "code",
      "source": [
        "df.plot(x='Produto', y='qtde_vendida', kind='line')"
      ],
      "metadata": {
        "colab": {
          "base_uri": "https://localhost:8080/",
          "height": 468
        },
        "id": "4xz25sKZyG9R",
        "outputId": "77cc09fe-3af1-4f3d-f4de-d7fa325ad426"
      },
      "execution_count": null,
      "outputs": [
        {
          "output_type": "execute_result",
          "data": {
            "text/plain": [
              "<Axes: xlabel='Produto'>"
            ]
          },
          "metadata": {},
          "execution_count": 32
        },
        {
          "output_type": "display_data",
          "data": {
            "text/plain": [
              "<Figure size 640x480 with 1 Axes>"
            ],
            "image/png": "[encoded data removed]"
          },
          "metadata": {}
        }
      ]
    },
    {
      "cell_type": "code",
      "source": [
        "import seaborn as sns\n",
        "import matplotlib.pyplot as plt\n",
        "\n",
        "sns.set(style=\"whitegrid\") # opções: darkgrid, whitegrid, dark, white, ticks\n",
        "\n",
        "df_tips = sns.load_dataset('tips')\n",
        "print(df_tips)"
      ],
      "metadata": {
        "colab": {
          "base_uri": "https://localhost:8080/"
        },
        "id": "Qxm2pMZeyiiG",
        "outputId": "c41d7dfd-3062-42cf-aba0-6ed7f3d7ef90"
      },
      "execution_count": null,
      "outputs": [
        {
          "output_type": "stream",
          "name": "stdout",
          "text": [
            "     total_bill   tip     sex smoker   day    time  size\n",
            "0         16.99  1.01  Female     No   Sun  Dinner     2\n",
            "1         10.34  1.66    Male     No   Sun  Dinner     3\n",
            "2         21.01  3.50    Male     No   Sun  Dinner     3\n",
            "3         23.68  3.31    Male     No   Sun  Dinner     2\n",
            "4         24.59  3.61  Female     No   Sun  Dinner     4\n",
            "..          ...   ...     ...    ...   ...     ...   ...\n",
            "239       29.03  5.92    Male     No   Sat  Dinner     3\n",
            "240       27.18  2.00  Female    Yes   Sat  Dinner     2\n",
            "241       22.67  2.00    Male    Yes   Sat  Dinner     2\n",
            "242       17.82  1.75    Male     No   Sat  Dinner     2\n",
            "243       18.78  3.00  Female     No  Thur  Dinner     2\n",
            "\n",
            "[244 rows x 7 columns]\n"
          ]
        }
      ]
    },
    {
      "cell_type": "code",
      "source": [
        "fig, ax = plt.subplots(1, 3, figsize=(15, 5))\n",
        "\n",
        "# Gráfico 1\n",
        "sns.barplot(data=df_tips, x='sex', y='total_bill', ax=ax[0])\n",
        "for patch, sex in zip(ax[0].patches, df_tips['sex'].unique()):\n",
        "    if sex == 'Female':\n",
        "        patch.set_facecolor('blue')\n",
        "\n",
        "# Gráfico 2\n",
        "sns.barplot(data=df_tips, x='sex', y='total_bill', ax=ax[1], estimator=sum)\n",
        "for patch, sex in zip(ax[1].patches, df_tips['sex'].unique()):\n",
        "    if sex == 'Female':\n",
        "        patch.set_facecolor('blue')\n",
        "\n",
        "# Gráfico 3\n",
        "sns.barplot(data=df_tips, x='sex', y='total_bill', ax=ax[2], estimator=len)\n",
        "for patch, sex in zip(ax[2].patches, df_tips['sex'].unique()):\n",
        "    if sex == 'Female':\n",
        "        patch.set_facecolor('blue')\n",
        "\n",
        "plt.show()\n"
      ],
      "metadata": {
        "colab": {
          "base_uri": "https://localhost:8080/",
          "height": 473
        },
        "id": "0ckpNOYAyioe",
        "outputId": "326c3be2-ef6a-42c4-dc4b-bd45b7afe18c"
      },
      "execution_count": null,
      "outputs": [
        {
          "output_type": "display_data",
          "data": {
            "text/plain": [
              "<Figure size 1500x500 with 3 Axes>"
            ],
            "image/png": "[encoded data removed]"
          },
          "metadata": {}
        }
      ]
    },
    {
      "cell_type": "code",
      "source": [
        "import seaborn as sns\n",
        "import matplotlib.pyplot as plt\n",
        "\n",
        "sns.set(style=\"whitegrid\")\n",
        "\n",
        "df = sns.load_dataset('tips')\n",
        "\n",
        "plt.figure(figsize=(8, 5))\n",
        "sns.barplot(x='time', y='total_bill', data=df, estimator=sum, ci=None, palette=\"Set2\")\n",
        "plt.xlabel('Período (Time)')\n",
        "plt.ylabel('Total de Gastos')\n",
        "plt.title('Total de Gastos por Período (Almoço ou Jantar)')\n",
        "plt.show()"
      ],
      "metadata": {
        "colab": {
          "base_uri": "https://localhost:8080/",
          "height": 684
        },
        "id": "UgpY_zpv1Qov",
        "outputId": "01d494d4-9826-4bec-a581-30c71048e3b9"
      },
      "execution_count": null,
      "outputs": [
        {
          "output_type": "stream",
          "name": "stderr",
          "text": [
            "<ipython-input-47-9cac89d1e165>:9: FutureWarning: \n",
            "\n",
            "The `ci` parameter is deprecated. Use `errorbar=None` for the same effect.\n",
            "\n",
            "  sns.barplot(x='time', y='total_bill', data=df, estimator=sum, ci=None, palette=\"Set2\")\n",
            "<ipython-input-47-9cac89d1e165>:9: FutureWarning: \n",
            "\n",
            "Passing `palette` without assigning `hue` is deprecated and will be removed in v0.14.0. Assign the `x` variable to `hue` and set `legend=False` for the same effect.\n",
            "\n",
            "  sns.barplot(x='time', y='total_bill', data=df, estimator=sum, ci=None, palette=\"Set2\")\n"
          ]
        },
        {
          "output_type": "display_data",
          "data": {
            "text/plain": [
              "<Figure size 800x500 with 1 Axes>"
            ],
            "image/png": "[encoded data removed]"
          },
          "metadata": {}
        }
      ]
    },
    {
      "cell_type": "code",
      "source": [
        "plt.figure(figsize=(8, 5))\n",
        "\n",
        "sns.barplot(x='time', y='total_bill', data=df)#, #estimator=sum, ci=None, palette=\"Set2\")\n",
        "plt.xlabel('Período (Time)')\n",
        "plt.ylabel('Média de Gastos')\n",
        "plt.title('Média de Gastos por Período (Almoço ou Jantar)')\n",
        "plt.show()"
      ],
      "metadata": {
        "colab": {
          "base_uri": "https://localhost:8080/",
          "height": 496
        },
        "id": "xz79JCe311qX",
        "outputId": "67e71dfd-1831-425b-d433-eb2357472a80"
      },
      "execution_count": null,
      "outputs": [
        {
          "output_type": "display_data",
          "data": {
            "text/plain": [
              "<Figure size 800x500 with 1 Axes>"
            ],
            "image/png": "[encoded data removed]"
          },
          "metadata": {}
        }
      ]
    },
    {
      "cell_type": "code",
      "source": [
        "# Crie um gráfico de barras com o Seaborn para mostrar a média de gorjetas por período\n",
        "\n",
        "plt.figure(figsize=(8, 5))\n",
        "sns.barplot(x='time', y='total_bill', data=df, palette=\"Set3\")\n",
        "plt.xlabel('Período (Time)')\n",
        "plt.ylabel('Média da Gorjeta')\n",
        "plt.title('Média da Gorjeta por Período (Almoço ou Jantar)')\n",
        "plt.show()"
      ],
      "metadata": {
        "colab": {
          "base_uri": "https://localhost:8080/",
          "height": 590
        },
        "id": "n2Vbiegr12Ju",
        "outputId": "efde7bd0-8970-4f7b-9eed-fa57fa6474cf"
      },
      "execution_count": null,
      "outputs": [
        {
          "output_type": "stream",
          "name": "stderr",
          "text": [
            "<ipython-input-51-1f6d93d35a92>:4: FutureWarning: \n",
            "\n",
            "Passing `palette` without assigning `hue` is deprecated and will be removed in v0.14.0. Assign the `x` variable to `hue` and set `legend=False` for the same effect.\n",
            "\n",
            "  sns.barplot(x='time', y='total_bill', data=df, palette=\"Set3\")\n"
          ]
        },
        {
          "output_type": "display_data",
          "data": {
            "text/plain": [
              "<Figure size 800x500 with 1 Axes>"
            ],
            "image/png": "[encoded data removed]"
          },
          "metadata": {}
        }
      ]
    },
    {
      "cell_type": "code",
      "source": [
        "# Encerramento da Unidade 3 (\"Aplicando a Unidade\")\n",
        "\n",
        "\n",
        "import sqlite3\n",
        "\n",
        "# Passo 1: Conectar ao banco de dados SQLite (ou criá-lo, se não existir)\n",
        "\n",
        "conn = sqlite3.connect(\"funcionarios.db\")"
      ],
      "metadata": {
        "id": "OKHYenwY2cbn"
      },
      "execution_count": null,
      "outputs": []
    },
    {
      "cell_type": "code",
      "source": [
        "# Passo 2: Criar a tabela de funcionários\n",
        "\n",
        "cursor = conn.cursor()\n",
        "\n",
        "cursor.execute('''\n",
        "    CREATE TABLE IF NOT EXISTS funcionarios (\n",
        "        id INTEGER PRIMARY KEY,\n",
        "        nome TEXT,\n",
        "        cargo TEXT,\n",
        "        salario REAL\n",
        "    )\n",
        "\n",
        "''')"
      ],
      "metadata": {
        "colab": {
          "base_uri": "https://localhost:8080/"
        },
        "id": "FtzJE5tD3Pqu",
        "outputId": "34104033-01fb-40c7-fb34-57dca0e3ebaa"
      },
      "execution_count": null,
      "outputs": [
        {
          "output_type": "execute_result",
          "data": {
            "text/plain": [
              "<sqlite3.Cursor at 0x7868a0ff4c40>"
            ]
          },
          "metadata": {},
          "execution_count": 53
        }
      ]
    },
    {
      "cell_type": "code",
      "source": [
        "# Passo 3: Inserir um novo funcionário na tabela\n",
        "\n",
        "novo_funcionario = (1, \"João\", \"Analista\", 5000.00)\n",
        "cursor.execute(\"INSERT INTO funcionarios VALUES (?, ?, ?, ?)\", novo_funcionario)\n",
        "conn.commit()"
      ],
      "metadata": {
        "id": "nNM_vbg63UKv"
      },
      "execution_count": null,
      "outputs": []
    },
    {
      "cell_type": "code",
      "source": [
        "novo_funcionario = (2, \"Rebeca\", \"Sócia\", 7865.97)\n",
        "cursor.execute(\"INSERT INTO funcionarios VALUES (?, ?, ?, ?)\", novo_funcionario)\n",
        "conn.commit()"
      ],
      "metadata": {
        "id": "DnGpw2pJ5iJA"
      },
      "execution_count": null,
      "outputs": []
    },
    {
      "cell_type": "code",
      "source": [
        "# Passo 4: Consultar e exibir funcionários\n",
        "\n",
        "cursor.execute(\"SELECT * FROM funcionarios\")\n",
        "funcionarios = cursor.fetchall()\n",
        "print(\"Funcionários Cadastrados:\")\n",
        "for funcionario in funcionarios:\n",
        "    print(funcionario)"
      ],
      "metadata": {
        "colab": {
          "base_uri": "https://localhost:8080/"
        },
        "id": "YEDhwyiX3c-J",
        "outputId": "1b1dc85a-26b1-482f-b4dd-7a6b8e0d3e1d"
      },
      "execution_count": null,
      "outputs": [
        {
          "output_type": "stream",
          "name": "stdout",
          "text": [
            "Funcionários Cadastrados:\n",
            "(2, 'Rebeca', 'Sócia', 7865.97)\n"
          ]
        }
      ]
    },
    {
      "cell_type": "code",
      "source": [
        "# Passo 5: Atualizar informações de um funcionário\n",
        "\n",
        "atualizacao = (\"João Silva\", 5500.00, 1)\n",
        "cursor.execute(\"UPDATE funcionarios SET nome = ?, salario = ? WHERE id = ?\", atualizacao)\n",
        "conn.commit()"
      ],
      "metadata": {
        "id": "uf4IxVz03hNX"
      },
      "execution_count": null,
      "outputs": []
    },
    {
      "cell_type": "code",
      "source": [
        "# Passo 6: Deletar um funcionário da tabela\n",
        "\n",
        "id_funcionario_para_deletar = 1\n",
        "cursor.execute(\"DELETE FROM funcionarios WHERE id = ?\", (id_funcionario_para_deletar,))\n",
        "conn.commit()"
      ],
      "metadata": {
        "id": "m4aZxSs03nnW"
      },
      "execution_count": null,
      "outputs": []
    },
    {
      "cell_type": "code",
      "source": [
        "# Atividade Unidade 3 - Classes e Orientações a Objetos\n",
        "\n",
        "1\n",
        "class Calculadora:\n",
        "    def somar(self, x, y):\n",
        "        return x + y\n",
        "\n",
        "    def subtrair(self, x, y):\n",
        "        return x - y\n",
        "\n",
        "    def multiplicar(self, x, y):\n",
        "        return x * y\n",
        "\n",
        "    def dividir(self, x, y):\n",
        "        return x / y\n"
      ],
      "metadata": {
        "id": "klfv6VvK8NCJ"
      },
      "execution_count": null,
      "outputs": []
    },
    {
      "cell_type": "code",
      "source": [
        "2\n",
        "class Televisao:\n",
        "    def __init__(self):\n",
        "        self.ligada = False\n",
        "        self.canal = 1\n",
        "\n",
        "    def mudar_canal_para_cima(self):\n",
        "        if self.ligada:\n",
        "            self.canal += 1\n",
        "\n",
        "    def mudar_canal_para_baixo(self):\n",
        "        if self.ligada:\n",
        "            self.canal -= 1"
      ],
      "metadata": {
        "id": "tbm6okQu8iTG"
      },
      "execution_count": null,
      "outputs": []
    },
    {
      "cell_type": "code",
      "source": [
        "3\n",
        "\n",
        "# Crie uma conexão e um banco “.db” com SQLite;\n",
        "# Crie uma tabela “pessoas” com as seguintes colunas: nome, idade e email (create table...);\n",
        "# Insira um valor na tabela apenas criada (insert into ...);\n",
        "# Selecione o valor inserido na tabela (select ... from ...);\n",
        "# Exiba o resultado."
      ],
      "metadata": {
        "id": "8kBKMf5d97iD"
      },
      "execution_count": null,
      "outputs": []
    },
    {
      "cell_type": "code",
      "source": [
        "import sqlite3\n",
        "\n",
        "# Conectar ao banco de dados SQLite (ou criar um novo arquivo .db)\n",
        "\n",
        "conn = sqlite3.connect('pessoas.db')\n",
        "cursor = conn.cursor()\n",
        "\n",
        "# Criar a tabela 'pessoas'\n",
        "cursor.execute('''\n",
        "CREATE TABLE IF NOT EXISTS pessoas (\n",
        "    nome TEXT,\n",
        "    idade INTEGER,\n",
        "    email TEXT\n",
        ")\n",
        "''')\n",
        "\n",
        "# Confirmar as mudanças\n",
        "conn.commit()\n",
        "\n",
        "print(\"Tabela 'pessoas' criada com sucesso!\")\n",
        "\n",
        "# Inserir um valor na tabela 'pessoas'\n",
        "cursor.execute('''\n",
        "INSERT INTO pessoas (nome, idade, email)\n",
        "VALUES ('Carlos Almeida', 28, 'carlos.almeida@email.com')\n",
        "''')\n",
        "\n",
        "# Confirmar as mudanças\n",
        "conn.commit()\n",
        "\n",
        "print(\"Valor inserido com sucesso!\")\n",
        "\n",
        "# Selecionar o valor inserido na tabela 'pessoas'\n",
        "cursor.execute('SELECT * FROM pessoas')\n",
        "resultado = cursor.fetchall()\n",
        "\n",
        "# Exibir o resultado\n",
        "print(\"Dados inseridos na tabela 'pessoas':\")\n",
        "for linha in resultado:\n",
        "    print(linha)"
      ],
      "metadata": {
        "id": "dP55dbd380VS"
      },
      "execution_count": null,
      "outputs": []
    },
    {
      "cell_type": "code",
      "source": [
        "# Começando a Unidade 4 - Desenvolvimento Web com o Python\n",
        "\n",
        "# Criando uma página HTML usando Python\n",
        "\n",
        "html_code = \"\"\"\n",
        "\n",
        "<!DOCTYPE html>\n",
        "<html>\n",
        "<head>\n",
        "  <title>Exemplo de Front-end com Python</title>\n",
        "</head>\n",
        "<body>\n",
        "  <h1>Olá, mundo!</h1>\n",
        "  <p>Esta é uma página web criada usando Python no Google Colab.</p>\n",
        "</body>\n",
        "</html>\n",
        "\"\"\""
      ],
      "metadata": {
        "id": "-KEDP7VbAZBI"
      },
      "execution_count": null,
      "outputs": []
    },
    {
      "cell_type": "code",
      "source": [
        "# Exibindo a página HTML\n",
        "\n",
        "from IPython.display import HTML\n",
        "HTML(html_code)"
      ],
      "metadata": {
        "colab": {
          "base_uri": "https://localhost:8080/",
          "height": 100
        },
        "id": "_0bFDxWSMJti",
        "outputId": "562601c5-60bd-453b-b69e-0f76b8b92d55"
      },
      "execution_count": null,
      "outputs": [
        {
          "output_type": "execute_result",
          "data": {
            "text/plain": [
              "<IPython.core.display.HTML object>"
            ],
            "text/html": [
              "\n",
              "\n",
              "<!DOCTYPE html>\n",
              "<html>\n",
              "<head>\n",
              "  <title>Exemplo de Front-end com Python</title>\n",
              "</head>\n",
              "<body>\n",
              "  <h1>Olá, mundo!</h1>\n",
              "  <p>Esta é uma página web criada usando Python no Google Colab.</p>\n",
              "</body>\n",
              "</html>\n"
            ]
          },
          "metadata": {},
          "execution_count": 72
        }
      ]
    },
    {
      "cell_type": "code",
      "source": [
        "# Exemplo de HTML com botão usando Python\n",
        "\n",
        "\n",
        "from IPython.display import HTML\n",
        "html_code = '''\n",
        "<!DOCTYPE html>\n",
        "<html lang=\"en\">\n",
        "<head>\n",
        "\n",
        "    <meta charset=\"UTF-8\">\n",
        "    <meta name=\"viewport\" content=\"width=device-width, initial-scale=1.0\">\n",
        "    <title>Minha Primeira Página Web</title>\n",
        "    <style>\n",
        "        body {\n",
        "            font-family: 'Arial', sans-serif;\n",
        "            background-color: #f8f8f8;\n",
        "            margin: 0;\n",
        "            display: flex;\n",
        "            justify-content: center;\n",
        "            align-items: center;\n",
        "            height: 100vh;\n",
        "        }\n",
        "        .container {\n",
        "            text-align: center;\n",
        "            padding: 40px;\n",
        "            background-color: #fff;\n",
        "            border-radius: 8px;\n",
        "            box-shadow: 0 0 20px rgba(0, 0, 0, 0.2);\n",
        "        }\n",
        "        h1 {\n",
        "            color: #3498db;\n",
        "            font-size: 2em;\n",
        "            margin-bottom: 20px;\n",
        "        }\n",
        "        p {\n",
        "            color: #555;\n",
        "            font-size: 1.2em;\n",
        "        }\n",
        "        button {\n",
        "            background-color: #3498db;\n",
        "            color: #fff;\n",
        "            font-size: 1.2em;\n",
        "            padding: 10px 20px;\n",
        "            border: none;\n",
        "            border-radius: 4px;\n",
        "            cursor: pointer;\n",
        "            transition: background-color 0.3s ease;\n",
        "        }\n",
        "        button:hover {\n",
        "            background-color: #2980b9;\n",
        "        }\n",
        "    </style>\n",
        "</head>\n",
        "<body>\n",
        "    <div class=\"container\">\n",
        "        <h1>Olá, Mundo!</h1>\n",
        "        <p>Esta é minha primeira página web criada com Python no Colab. Bem-vindo ao mundo da programação web!</p>\n",
        "        <button onclick=\"alert('Botão clicado!')\">Clique em Mim</button>\n",
        "    </div>\n",
        "</body>\n",
        "</html>\n",
        "\n",
        "'''\n",
        "\n",
        "# Exibindo a página HTML\n",
        "from IPython.display import HTML\n",
        "HTML(html_code)"
      ],
      "metadata": {
        "id": "05wnMA9SMgDf",
        "colab": {
          "base_uri": "https://localhost:8080/",
          "height": 1000
        },
        "outputId": "3330077c-6f73-4879-b10d-da0c39ea3ce0"
      },
      "execution_count": null,
      "outputs": [
        {
          "output_type": "execute_result",
          "data": {
            "text/plain": [
              "<IPython.core.display.HTML object>"
            ],
            "text/html": [
              "\n",
              "<!DOCTYPE html>\n",
              "<html lang=\"en\">\n",
              "<head>\n",
              "\n",
              "    <meta charset=\"UTF-8\">\n",
              "    <meta name=\"viewport\" content=\"width=device-width, initial-scale=1.0\">\n",
              "    <title>Minha Primeira Página Web</title>\n",
              "    <style>\n",
              "        body {\n",
              "            font-family: 'Arial', sans-serif;\n",
              "            background-color: #f8f8f8;\n",
              "            margin: 0;\n",
              "            display: flex;\n",
              "            justify-content: center;\n",
              "            align-items: center;\n",
              "            height: 100vh;\n",
              "        }\n",
              "        .container {\n",
              "            text-align: center;\n",
              "            padding: 40px;\n",
              "            background-color: #fff;\n",
              "            border-radius: 8px;\n",
              "            box-shadow: 0 0 20px rgba(0, 0, 0, 0.2);\n",
              "        }\n",
              "        h1 {\n",
              "            color: #3498db;\n",
              "            font-size: 2em;\n",
              "            margin-bottom: 20px;\n",
              "        }\n",
              "        p {\n",
              "            color: #555;\n",
              "            font-size: 1.2em;\n",
              "        }\n",
              "        button {\n",
              "            background-color: #3498db;\n",
              "            color: #fff;\n",
              "            font-size: 1.2em;\n",
              "            padding: 10px 20px;\n",
              "            border: none;\n",
              "            border-radius: 4px;\n",
              "            cursor: pointer;\n",
              "            transition: background-color 0.3s ease;\n",
              "        }\n",
              "        button:hover {\n",
              "            background-color: #2980b9;\n",
              "        }\n",
              "    </style>\n",
              "</head>\n",
              "<body>\n",
              "    <div class=\"container\">\n",
              "        <h1>Olá, Mundo!</h1>\n",
              "        <p>Esta é minha primeira página web criada com Python no Colab. Bem-vindo ao mundo da programação web!</p>\n",
              "        <button onclick=\"alert('Botão clicado!')\">Clique em Mim</button>\n",
              "    </div>\n",
              "</body>\n",
              "</html>\n",
              "\n"
            ]
          },
          "metadata": {},
          "execution_count": 2
        }
      ]
    },
    {
      "cell_type": "code",
      "source": [
        "from IPython.display import HTML\n",
        "\n",
        "html_code = '''\n",
        "\n",
        "<!DOCTYPE html>\n",
        "<html lang=\"en\">\n",
        "<head>\n",
        "    <meta charset=\"UTF-8\">\n",
        "    <meta name=\"viewport\" content=\"width=device-width, initial-scale=1.0\">\n",
        "    <title>Meu Perfil</title>\n",
        "</head>\n",
        "<body style=\"font-family: 'Arial', sans-serif; background-color: #f8f8f8; margin: 0; padding: 0;\">\n",
        "    <header style=\"text-align: center; background-color: #3498db; color: #fff; padding: 20px;\">\n",
        "        <h1 style=\"margin: 0;\">Artur Pereira Félix do Nascimento</h1>\n",
        "        <p style=\"margin: 5px 0;\">Desenvolvedor Web</p>\n",
        "    </header>\n",
        "    <section style=\"margin: 20px; text-align: center;\">\n",
        "        <img src=\"content/sua_foto.jpg\" alt=\"Sua Foto\" style=\"border-radius: 50%; margin-bottom: 20px;\">\n",
        "        <div id=\"informacoes-pessoais\" style=\"max-width: 400px; margin: 0 auto;\">\n",
        "            <p>Cidade: Londrina </p>\n",
        "            <p>País: Brasil</p>\n",
        "            <p>Interesses: Desenvolvimento de Web, Programação, Suporte T.I, etc.</p>\n",
        "        </div>\n",
        "    </section>\n",
        "    <section style=\"margin: 20px; text-align: center;\">\n",
        "        <h2>Habilidades</h2>\n",
        "        <ul style=\"list-style: none; padding: 0;\">\n",
        "            <li>Linguagens: Python, HTML.</li>\n",
        "            <li>Ferramentas: VS Code</li>\n",
        "        </ul>\n",
        "    </section>\n",
        "    <section style=\"margin: 20px; text-align: center;\">\n",
        "        <h2>Projeto Recente</h2>\n",
        "        <p>Estudando conteúdos de Programação, com auxílio do Jupyter Notebook, Google Colab, VS Code, etc.</p>\n",
        "    </section>\n",
        "    <footer style=\"text-align: center; margin-top: 20px;\">\n",
        "        <a href=\"https://www.linkedin.com/in/artur-félix-4bb52b262/\" target=\"_blank\" style=\"margin: 0 10px; color: #3498db; text-decoration: none;\">LinkedIn</a>\n",
        "    </footer>\n",
        "</body>\n",
        "</html>\n",
        "\n",
        "'''\n",
        "\n",
        "# Exibindo a página HTML\n",
        "HTML(html_code)"
      ],
      "metadata": {
        "id": "UfxUiqZQMBO1",
        "colab": {
          "resources": {
            "http://localhost:8080/content/sua_foto.jpg": {
              "data": "",
              "ok": false,
              "headers": [
                [
                  "content-length",
                  "0"
                ]
              ],
              "status": 404,
              "status_text": ""
            }
          },
          "base_uri": "https://localhost:8080/",
          "height": 457
        },
        "outputId": "db8040e2-7890-4ec2-d129-28251b629c7c"
      },
      "execution_count": null,
      "outputs": [
        {
          "output_type": "execute_result",
          "data": {
            "text/plain": [
              "<IPython.core.display.HTML object>"
            ],
            "text/html": [
              "\n",
              "\n",
              "<!DOCTYPE html>\n",
              "<html lang=\"en\">\n",
              "<head>\n",
              "    <meta charset=\"UTF-8\">\n",
              "    <meta name=\"viewport\" content=\"width=device-width, initial-scale=1.0\">\n",
              "    <title>Meu Perfil</title>\n",
              "</head>\n",
              "<body style=\"font-family: 'Arial', sans-serif; background-color: #f8f8f8; margin: 0; padding: 0;\">\n",
              "    <header style=\"text-align: center; background-color: #3498db; color: #fff; padding: 20px;\">\n",
              "        <h1 style=\"margin: 0;\">Artur Pereira Félix do Nascimento</h1>\n",
              "        <p style=\"margin: 5px 0;\">Desenvolvedor Web</p>\n",
              "    </header>\n",
              "    <section style=\"margin: 20px; text-align: center;\">\n",
              "        <img src=\"content/sua_foto.jpg\" alt=\"Sua Foto\" style=\"border-radius: 50%; margin-bottom: 20px;\">\n",
              "        <div id=\"informacoes-pessoais\" style=\"max-width: 400px; margin: 0 auto;\">\n",
              "            <p>Cidade: Londrina </p>\n",
              "            <p>País: Brasil</p>\n",
              "            <p>Interesses: Desenvolvimento de Web, Programação, Suporte T.I, etc.</p>\n",
              "        </div>\n",
              "    </section>\n",
              "    <section style=\"margin: 20px; text-align: center;\">\n",
              "        <h2>Habilidades</h2>\n",
              "        <ul style=\"list-style: none; padding: 0;\">\n",
              "            <li>Linguagens: Python, HTML.</li>\n",
              "            <li>Ferramentas: VS Code</li>\n",
              "        </ul>\n",
              "    </section>\n",
              "    <section style=\"margin: 20px; text-align: center;\">\n",
              "        <h2>Projeto Recente</h2>\n",
              "        <p>Estudando conteúdos de Programação, com auxílio do Jupyter Notebook, Google Colab, VS Code, etc.</p>\n",
              "    </section>\n",
              "    <footer style=\"text-align: center; margin-top: 20px;\">\n",
              "        <a href=\"https://www.linkedin.com/in/artur-félix-4bb52b262/\" target=\"_blank\" style=\"margin: 0 10px; color: #3498db; text-decoration: none;\">LinkedIn</a>\n",
              "    </footer>\n",
              "</body>\n",
              "</html>\n",
              "\n"
            ]
          },
          "metadata": {},
          "execution_count": 1
        }
      ]
    },
    {
      "cell_type": "code",
      "source": [
        "# Continuando na Unidade 4 - Introdução a Programação Mobile com o Python\n",
        "# KivyMD;\n",
        "# Widgets e Organização de Telas utilizando o MDTabs\n",
        "\n"
      ],
      "metadata": {
        "id": "EO78ZVSRuV6k"
      },
      "execution_count": null,
      "outputs": []
    },
    {
      "cell_type": "code",
      "source": [
        "# Continuando na Unidade 4 - Testes com Python\n",
        "# Assertions\n",
        "\n",
        "def divide(x, y):\n",
        "    assert y != 0, \"Divisão por Zero!\"\n",
        "    return x / y\n",
        "\n",
        "result = divide(6, 2)\n",
        "print(result)  # AssertionError: Divisão por zero!\n"
      ],
      "metadata": {
        "colab": {
          "base_uri": "https://localhost:8080/"
        },
        "id": "XJ0nnHmczTS-",
        "outputId": "616ac5c6-a09e-42a6-c4d2-26104fe441b2"
      },
      "execution_count": null,
      "outputs": [
        {
          "output_type": "stream",
          "name": "stdout",
          "text": [
            "3.0\n"
          ]
        }
      ]
    },
    {
      "cell_type": "code",
      "source": [
        "# Doctests\n",
        "\n",
        "import doctest\n",
        "def square(x):\n",
        "    \"\"\"\n",
        "\n",
        "    Retorna o quadrado de um número.\n",
        "\n",
        "    Exemplos:\n",
        "    >>> square(3)\n",
        "    9\n",
        "    >>> square(-2)\n",
        "    4\n",
        "    >>> square(0)\n",
        "    1\n",
        "    \"\"\"\n",
        "    return x * x\n",
        "doctest.testmod()"
      ],
      "metadata": {
        "colab": {
          "base_uri": "https://localhost:8080/"
        },
        "id": "ZWZ2Lbcy2MO9",
        "outputId": "ee157b09-f9b9-440f-956b-f27f49396de6"
      },
      "execution_count": null,
      "outputs": [
        {
          "output_type": "stream",
          "name": "stdout",
          "text": [
            "**********************************************************************\n",
            "File \"__main__\", line 14, in __main__.square\n",
            "Failed example:\n",
            "    square(0)\n",
            "Expected:\n",
            "    1\n",
            "Got:\n",
            "    0\n",
            "**********************************************************************\n",
            "1 items had failures:\n",
            "   1 of   3 in __main__.square\n",
            "***Test Failed*** 1 failures.\n"
          ]
        },
        {
          "output_type": "execute_result",
          "data": {
            "text/plain": [
              "TestResults(failed=1, attempted=3)"
            ]
          },
          "metadata": {},
          "execution_count": 6
        }
      ]
    },
    {
      "cell_type": "code",
      "source": [
        "# Módulo Unnitest\n",
        "\n",
        "import unittest\n",
        "\n",
        "def add(a, b):\n",
        "    return a + b\n",
        "\n",
        "class TestAddition(unittest.TestCase):\n",
        "    def test_add_positive_numbers(self):\n",
        "        self.assertEqual(add(2, 3), 5)\n",
        "\n",
        "    def test_add_negative_numbers(self):\n",
        "        self.assertEqual(add(-2, -3), -5)\n",
        "\n",
        "if __name__ == '__main__':\n",
        "    import unittest\n",
        "    unittest.main(argv=['first-arg-is-ignored'], exit=False)\n",
        "    print(\"Os testes foram executados com sucesso!\")"
      ],
      "metadata": {
        "colab": {
          "base_uri": "https://localhost:8080/"
        },
        "id": "xTcQPHHT2N-z",
        "outputId": "17347427-0a38-4536-cdad-df403a82c7a2"
      },
      "execution_count": null,
      "outputs": [
        {
          "output_type": "stream",
          "name": "stderr",
          "text": [
            "..\n",
            "----------------------------------------------------------------------\n",
            "Ran 2 tests in 0.005s\n",
            "\n",
            "OK\n"
          ]
        },
        {
          "output_type": "stream",
          "name": "stdout",
          "text": [
            "Os testes foram executados com sucesso!\n"
          ]
        }
      ]
    },
    {
      "cell_type": "code",
      "source": [
        "#assert\n",
        "\n",
        "def sum_numbers(numbers):\n",
        "    assert sum([1, 2, 3, 4]) == 10\n",
        "    assert sum([-1, 0, 1]) == 0\n",
        "    assert sum([]) == 0\n",
        "    return sum(numbers)\n",
        "teste = sum_numbers([1, 2, 3, 5])\n",
        "print(teste)"
      ],
      "metadata": {
        "colab": {
          "base_uri": "https://localhost:8080/"
        },
        "id": "KPVC1yBn4RdE",
        "outputId": "46d6e8e7-fdb0-47ba-8528-cf0011143cb1"
      },
      "execution_count": null,
      "outputs": [
        {
          "output_type": "stream",
          "name": "stdout",
          "text": [
            "11\n"
          ]
        }
      ]
    },
    {
      "cell_type": "code",
      "source": [
        "#doctest\n",
        "def sum_numbers(numbers):\n",
        "    \"\"\"\n",
        "    Soma os números em uma lista.\n",
        "\n",
        "    Exemplos:\n",
        "    >>> sum_numbers([1, 2, 3, 4])\n",
        "    10\n",
        "    >>> sum_numbers([-1, 0, 1])\n",
        "    0\n",
        "    >>> sum_numbers([])\n",
        "    0\n",
        "    \"\"\"\n",
        "    return sum(numbers)\n",
        "\n",
        "if __name__ == \"__main__\":\n",
        "    import doctest\n",
        "    doctest.testmod()"
      ],
      "metadata": {
        "colab": {
          "base_uri": "https://localhost:8080/"
        },
        "id": "D18QAK9I4YNb",
        "outputId": "b5fa05af-0c56-413f-ae13-e79008e41f5c"
      },
      "execution_count": null,
      "outputs": [
        {
          "output_type": "stream",
          "name": "stdout",
          "text": [
            "**********************************************************************\n",
            "File \"__main__\", line 14, in __main__.square\n",
            "Failed example:\n",
            "    square(0)\n",
            "Expected:\n",
            "    1\n",
            "Got:\n",
            "    0\n",
            "**********************************************************************\n",
            "1 items had failures:\n",
            "   1 of   3 in __main__.square\n",
            "***Test Failed*** 1 failures.\n"
          ]
        }
      ]
    },
    {
      "cell_type": "code",
      "source": [
        "#unittest\n",
        "import unittest\n",
        "def sum_numbers(numbers):\n",
        "    return sum(numbers)\n",
        "\n",
        "class TestSumNumbers(unittest.TestCase):\n",
        "    def test_sum_numbers_positive(self):\n",
        "        self.assertEqual(sum_numbers([1, 2, 3, 4]), 10)\n",
        "\n",
        "    def test_sum_numbers_mixed(self):\n",
        "        self.assertEqual(sum_numbers([-1, 0, 1]), 0)\n",
        "\n",
        "    def test_sum_numbers_empty(self):\n",
        "        self.assertEqual(sum_numbers([]), 0)\n",
        "\n",
        "if __name__ == '__main__':\n",
        "    unittest.main(argv=['first-arg-is-ignored'], exit=False)"
      ],
      "metadata": {
        "colab": {
          "base_uri": "https://localhost:8080/"
        },
        "id": "DpvikJmJ4zeY",
        "outputId": "929fe9ad-e211-46fd-d05b-0b331b854f21"
      },
      "execution_count": null,
      "outputs": [
        {
          "output_type": "stream",
          "name": "stderr",
          "text": [
            ".....\n",
            "----------------------------------------------------------------------\n",
            "Ran 5 tests in 0.015s\n",
            "\n",
            "OK\n"
          ]
        }
      ]
    },
    {
      "cell_type": "code",
      "source": [
        "# Continuando na Unidade 4 - Machine Learning com Python (Aprendizado de Máquina)\n",
        "# Teoria\n",
        "# Tipos de Treinamento\n",
        "# Tensorflow"
      ],
      "metadata": {
        "id": "DSO9EoTd648K"
      },
      "execution_count": null,
      "outputs": []
    },
    {
      "cell_type": "code",
      "source": [
        "# Supervisionado\n",
        "\n",
        "import tensorflow as tf\n",
        "from tensorflow.keras.models import Sequential\n",
        "from tensorflow.keras.layers import Dense\n",
        "import matplotlib.pyplot as plt\n",
        "\n",
        "# Dados de exemplo\n",
        "X_train = tf.constant([[1.0], [2.0], [3.0], [4.0]])\n",
        "y_train = tf.constant([[2.0], [4.0], [6.0], [8.0]])\n",
        "\n",
        "# Modelo de Regressão Linear Simples\n",
        "model = Sequential()\n",
        "model.add(Dense(units=1, input_shape=(1,)))\n",
        "model.compile(optimizer='sgd', loss='mean_squared_error')\n",
        "\n",
        "# Treinamento do modelo\n",
        "history = model.fit(X_train, y_train, epochs=1000, verbose=0)\n",
        "\n",
        "# Previsão\n",
        "X_new = tf.constant([[5.0]])\n",
        "prediction = model.predict(X_new)\n",
        "print(\"Predição:\", prediction[0][0])\n",
        "\n",
        "# Plotar os resultados\n",
        "plt.plot(history.history['loss'])\n",
        "plt.title('Model Loss Over Training')\n",
        "plt.xlabel('Epoch')\n",
        "plt.ylabel('Loss')\n",
        "plt.show()"
      ],
      "metadata": {
        "colab": {
          "base_uri": "https://localhost:8080/",
          "height": 567
        },
        "id": "bqAlZl9s8Ujd",
        "outputId": "0d5398a9-6c03-4b2b-eb69-3bc74381619e"
      },
      "execution_count": null,
      "outputs": [
        {
          "output_type": "stream",
          "name": "stderr",
          "text": [
            "/usr/local/lib/python3.10/dist-packages/keras/src/layers/core/dense.py:87: UserWarning: Do not pass an `input_shape`/`input_dim` argument to a layer. When using Sequential models, prefer using an `Input(shape)` object as the first layer in the model instead.\n",
            "  super().__init__(activity_regularizer=activity_regularizer, **kwargs)\n"
          ]
        },
        {
          "output_type": "stream",
          "name": "stdout",
          "text": [
            "\u001b[1m1/1\u001b[0m \u001b[32m━━━━━━━━━━━━━━━━━━━━\u001b[0m\u001b[37m\u001b[0m \u001b[1m0s\u001b[0m 38ms/step\n",
            "Predição: 9.986329\n"
          ]
        },
        {
          "output_type": "display_data",
          "data": {
            "text/plain": [
              "<Figure size 640x480 with 1 Axes>"
            ],
            "image/png": "[encoded data removed]"
          },
          "metadata": {}
        }
      ]
    },
    {
      "cell_type": "code",
      "source": [
        "# Não supervisionado\n",
        "\n",
        "import tensorflow as tf\n",
        "from tensorflow.keras.layers import Input, Dense\n",
        "from tensorflow.keras.models import Model\n",
        "\n",
        "# Dados de exemplo\n",
        "X_unsupervised = tf.constant([[1.0, 2.0], [2.0, 3.0], [3.0, 4.0], [4.0, 5.0]])\n",
        "\n",
        "# Modelo Autoencoder Simples\n",
        "input_layer = Input(shape=(2,))\n",
        "encoded = Dense(units=1)(input_layer)\n",
        "decoded = Dense(units=2)(encoded)\n",
        "\n",
        "autoencoder = Model(inputs=input_layer, outputs=decoded)\n",
        "autoencoder.compile(optimizer='adam', loss='mean_squared_error')\n",
        "\n",
        "# Treinamento do modelo não supervisionado\n",
        "autoencoder.fit(X_unsupervised, X_unsupervised, epochs=1000, verbose=0)\n",
        "\n",
        "# Previsão\n",
        "prediction_unsupervised = autoencoder.predict(X_unsupervised)\n",
        "print(\"Predição Não Supervisionada:\", prediction_unsupervised)"
      ],
      "metadata": {
        "colab": {
          "base_uri": "https://localhost:8080/"
        },
        "id": "XhhC2AzTB0l9",
        "outputId": "a670a312-9e51-4986-a2e0-9c071667aaed"
      },
      "execution_count": null,
      "outputs": [
        {
          "output_type": "stream",
          "name": "stderr",
          "text": [
            "WARNING:tensorflow:5 out of the last 5 calls to <function TensorFlowTrainer.make_predict_function.<locals>.one_step_on_data_distributed at 0x781c764995a0> triggered tf.function retracing. Tracing is expensive and the excessive number of tracings could be due to (1) creating @tf.function repeatedly in a loop, (2) passing tensors with different shapes, (3) passing Python objects instead of tensors. For (1), please define your @tf.function outside of the loop. For (2), @tf.function has reduce_retracing=True option that can avoid unnecessary retracing. For (3), please refer to https://www.tensorflow.org/guide/function#controlling_retracing and https://www.tensorflow.org/api_docs/python/tf/function for  more details.\n"
          ]
        },
        {
          "output_type": "stream",
          "name": "stdout",
          "text": [
            "\u001b[1m1/1\u001b[0m \u001b[32m━━━━━━━━━━━━━━━━━━━━\u001b[0m\u001b[37m\u001b[0m \u001b[1m0s\u001b[0m 49ms/step\n",
            "Predição Não Supervisionada: [[ 0.7624239   0.8761174 ]\n",
            " [ 0.47460622  1.0671109 ]\n",
            " [ 0.18678868  1.2581043 ]\n",
            " [-0.10102892  1.4490976 ]]\n"
          ]
        }
      ]
    },
    {
      "cell_type": "code",
      "source": [
        "# Por Esforço\n",
        "\n",
        "import tensorflow as tf\n",
        "import gym\n",
        "\n",
        "# Ambiente CartPole do Gym\n",
        "env = gym.make('CartPole-v1')\n",
        "\n",
        "# Modelo Simples para Aprendizado por Reforço\n",
        "model_reinforcement = tf.keras.Sequential([\n",
        "    tf.keras.layers.Dense(24, activation='relu', input_shape=(env.observation_space.shape[0],)),\n",
        "    tf.keras.layers.Dense(env.action_space.n, activation='linear')\n",
        "])\n",
        "model_reinforcement.compile(optimizer=tf.keras.optimizers.Adam(learning_rate=0.001), loss='mse')\n",
        "\n",
        "# Treinamento por Reforço (exemplo fictício)\n",
        "max_episodes = 1000  # Defina o número máximo de episódios\n",
        "for episode in range(max_episodes):\n",
        "    state = env.reset()\n",
        "    done = False\n",
        "\n",
        "    while not done:\n",
        "        action = env.action_space.sample()\n",
        "        next_state, reward, done, _ = env.step(action)\n",
        "        target = reward + 0.95 * tf.reduce_max(model_reinforcement.predict(next_state.reshape(1, -1)))\n",
        "        target_f = model_reinforcement.predict(state.reshape(1, -1))\n",
        "        target_f[0][action] = target\n",
        "        model_reinforcement.fit(state.reshape(1, -1), target_f, epochs=1, verbose=0)\n",
        "        state = next_state\n",
        "\n",
        "    # Condição de parada\n",
        "    if episode % 10 == 0:\n",
        "        average_reward = sum(reward for _ in range(10)) / 10.0\n",
        "        print(f'Episode {episode}, Average Reward: {average_reward}')\n",
        "\n",
        "        # Adicionando uma condição de parada\n",
        "        if average_reward == 1:  # Pode ajustar esse valor conforme necessário\n",
        "            print(f'Solved after {episode} episodes!')\n",
        "            break"
      ],
      "metadata": {
        "id": "-Capx8SJCc9j"
      },
      "execution_count": null,
      "outputs": []
    },
    {
      "cell_type": "code",
      "source": [
        "# Aplicando a aula!\n",
        "import numpy as np\n",
        "import pandas as pd\n",
        "import matplotlib.pyplot as plt\n",
        "from sklearn.model_selection import train_test_split\n",
        "from sklearn.preprocessing import MinMaxScaler\n",
        "import tensorflow as tf\n",
        "\n",
        "# Crie dados fictícios de vendas ao longo do tempo\n",
        "np.random.seed(42)\n",
        "meses = np.arange(1, 13)\n",
        "vendas = np.array([200, 220, 250, 280, 300, 320, 350, 380, 400, 420, 450, 480])\n",
        "\n",
        "# Crie um DataFrame\n",
        "dados = pd.DataFrame({'Mes': meses, 'Vendas': vendas})\n",
        "\n",
        "# Visualize os dados\n",
        "plt.scatter(dados['Mes'], dados['Vendas'])\n",
        "plt.xlabel('Mês')\n",
        "plt.ylabel('Vendas')\n",
        "plt.title('Dados de Vendas ao Longo do Tempo')\n",
        "plt.show()\n",
        "\n",
        "# Normalização dos dados de treinamento\n",
        "scaler = MinMaxScaler()\n",
        "X_train_scaled = scaler.fit_transform(X_train)\n",
        "\n",
        "# Divida os dados em conjunto de treinamento e teste\n",
        "X = dados[['Mes']]\n",
        "y = dados['Vendas']\n",
        "X_train, X_test, y_train, y_test = train_test_split(X, y, test_size=0.2, random_state=42)\n",
        "X_test_scaled = scaler.transform(X_test)\n",
        "\n",
        "# Crie e treine o modelo de regressão linear usando TensorFlow\n",
        "model = tf.keras.Sequential([\n",
        "    tf.keras.layers.Input(shape=(1,)),  # Camada de entrada\n",
        "    tf.keras.layers.Dense(units=8, activation='relu'),  # Camada escondida com ativação ReLU\n",
        "    tf.keras.layers.Dense(units=1)  # Camada de saída\n",
        "])\n",
        "model.compile(optimizer='adam', loss='mean_squared_error')\n",
        "\n",
        "# Treine o modelo por mais épocas\n",
        "model.fit(X_train, y_train, epochs=500, verbose=0)\n",
        "\n",
        "# Faça previsões no conjunto de teste\n",
        "predictions = model.predict(X_test)\n",
        "\n",
        "# Desfaça a normalização para avaliar o desempenho\n",
        "min_sales = dados['Vendas'].min()\n",
        "max_sales = dados['Vendas'].max()\n",
        "predictions_inverse = predictions * (max_sales - min_sales) + min_sales\n",
        "y_test_inverse = y_test * (max_sales - min_sales) + min_sales\n",
        "\n",
        "# Visualize as previsões em relação aos dados reais\n",
        "plt.scatter(X_test, y_test_inverse, label='Dados Reais')\n",
        "plt.plot(X_test, predictions_inverse, color='red', label='Previsões')\n",
        "plt.xlabel('Mês')\n",
        "plt.ylabel('Vendas')\n",
        "plt.title('Previsões de Vendas com Regressão Linear (TensorFlow)')\n",
        "plt.legend()\n",
        "plt.show()\n",
        "\n",
        "# Avalie o desempenho do modelo\n",
        "from sklearn.metrics import mean_squared_error\n",
        "erro_mse = mean_squared_error(y_test_inverse, predictions_inverse)\n",
        "print(f'Erro Médio Quadrático (MSE): {erro_mse:.2f}')\n",
        "\n",
        "# Faça uma previsão para o próximo mês\n",
        "proximo_mes_scaled = scaler.transform(np.array([[13]]))\n",
        "previsao_proximo_mes_scaled = model.predict(proximo_mes_scaled)\n",
        "previsao_proximo_mes = scaler.inverse_transform(previsao_proximo_mes_scaled)[0, 0]\n",
        "print(f'Previsão de Vendas para o Próximo Mês: {previsao_proximo_mes:.2f}')"
      ],
      "metadata": {
        "colab": {
          "base_uri": "https://localhost:8080/",
          "height": 1000
        },
        "id": "o0abv4ovC2GT",
        "outputId": "79c44c37-1c8e-4936-8e4a-5e1436664fca"
      },
      "execution_count": null,
      "outputs": [
        {
          "output_type": "display_data",
          "data": {
            "text/plain": [
              "<Figure size 640x480 with 1 Axes>"
            ],
            "image/png": "[encoded data removed]"
          },
          "metadata": {}
        },
        {
          "output_type": "stream",
          "name": "stderr",
          "text": [
            "/usr/local/lib/python3.10/dist-packages/sklearn/base.py:486: UserWarning: X has feature names, but MinMaxScaler was fitted without feature names\n",
            "  warnings.warn(\n"
          ]
        },
        {
          "output_type": "stream",
          "name": "stdout",
          "text": [
            "\u001b[1m1/1\u001b[0m \u001b[32m━━━━━━━━━━━━━━━━━━━━\u001b[0m\u001b[37m\u001b[0m \u001b[1m0s\u001b[0m 48ms/step\n"
          ]
        },
        {
          "output_type": "display_data",
          "data": {
            "text/plain": [
              "<Figure size 640x480 with 1 Axes>"
            ],
            "image/png": "[encoded data removed]"
          },
          "metadata": {}
        },
        {
          "output_type": "stream",
          "name": "stdout",
          "text": [
            "Erro Médio Quadrático (MSE): 9785746754.08\n",
            "\u001b[1m1/1\u001b[0m \u001b[32m━━━━━━━━━━━━━━━━━━━━\u001b[0m\u001b[37m\u001b[0m \u001b[1m0s\u001b[0m 48ms/step\n",
            "Previsão de Vendas para o Próximo Mês: 33.14\n"
          ]
        }
      ]
    },
    {
      "cell_type": "code",
      "source": [
        "# Encerramento da Unidade 4 - Aplicações com Python\n",
        "\n",
        "import tensorflow as tf\n",
        "mnist = tf.keras.datasets.mnist\n",
        "\n",
        "(x_train, y_train),(x_test, y_test) = mnist.load_data()\n",
        "x_train, x_test = x_train / 255.0, x_test / 255.0\n",
        "\n",
        "model = tf.keras.models.Sequential([\n",
        "  tf.keras.layers.Flatten(input_shape=(28, 28)),\n",
        "  tf.keras.layers.Dense(128, activation='relu'),\n",
        "  tf.keras.layers.Dropout(0.2),\n",
        "  tf.keras.layers.Dense(10, activation='softmax')\n",
        "])\n",
        "\n",
        "model.compile(optimizer='adam',\n",
        "              loss='sparse_categorical_crossentropy',\n",
        "              metrics=['accuracy'])\n",
        "\n",
        "model.fit(x_train, y_train, epochs=5)\n",
        "model.evaluate(x_test, y_test)"
      ],
      "metadata": {
        "colab": {
          "base_uri": "https://localhost:8080/"
        },
        "id": "hqjcslwKEjRG",
        "outputId": "1caedb5f-eec8-49d1-8020-20e43d6009d5"
      },
      "execution_count": null,
      "outputs": [
        {
          "output_type": "stream",
          "name": "stdout",
          "text": [
            "Downloading data from https://storage.googleapis.com/tensorflow/tf-keras-datasets/mnist.npz\n",
            "\u001b[1m11490434/11490434\u001b[0m \u001b[32m━━━━━━━━━━━━━━━━━━━━\u001b[0m\u001b[37m\u001b[0m \u001b[1m0s\u001b[0m 0us/step\n"
          ]
        },
        {
          "output_type": "stream",
          "name": "stderr",
          "text": [
            "/usr/local/lib/python3.10/dist-packages/keras/src/layers/reshaping/flatten.py:37: UserWarning: Do not pass an `input_shape`/`input_dim` argument to a layer. When using Sequential models, prefer using an `Input(shape)` object as the first layer in the model instead.\n",
            "  super().__init__(**kwargs)\n"
          ]
        },
        {
          "output_type": "stream",
          "name": "stdout",
          "text": [
            "Epoch 1/5\n",
            "\u001b[1m1875/1875\u001b[0m \u001b[32m━━━━━━━━━━━━━━━━━━━━\u001b[0m\u001b[37m\u001b[0m \u001b[1m9s\u001b[0m 4ms/step - accuracy: 0.8624 - loss: 0.4718\n",
            "Epoch 2/5\n",
            "\u001b[1m1875/1875\u001b[0m \u001b[32m━━━━━━━━━━━━━━━━━━━━\u001b[0m\u001b[37m\u001b[0m \u001b[1m13s\u001b[0m 5ms/step - accuracy: 0.9567 - loss: 0.1489\n",
            "Epoch 3/5\n",
            "\u001b[1m1875/1875\u001b[0m \u001b[32m━━━━━━━━━━━━━━━━━━━━\u001b[0m\u001b[37m\u001b[0m \u001b[1m12s\u001b[0m 6ms/step - accuracy: 0.9676 - loss: 0.1082\n",
            "Epoch 4/5\n",
            "\u001b[1m1875/1875\u001b[0m \u001b[32m━━━━━━━━━━━━━━━━━━━━\u001b[0m\u001b[37m\u001b[0m \u001b[1m18s\u001b[0m 4ms/step - accuracy: 0.9729 - loss: 0.0871\n",
            "Epoch 5/5\n",
            "\u001b[1m1875/1875\u001b[0m \u001b[32m━━━━━━━━━━━━━━━━━━━━\u001b[0m\u001b[37m\u001b[0m \u001b[1m11s\u001b[0m 5ms/step - accuracy: 0.9771 - loss: 0.0726\n",
            "\u001b[1m313/313\u001b[0m \u001b[32m━━━━━━━━━━━━━━━━━━━━\u001b[0m\u001b[37m\u001b[0m \u001b[1m1s\u001b[0m 2ms/step - accuracy: 0.9730 - loss: 0.0819\n"
          ]
        },
        {
          "output_type": "execute_result",
          "data": {
            "text/plain": [
              "[0.07005301862955093, 0.977400004863739]"
            ]
          },
          "metadata": {},
          "execution_count": 28
        }
      ]
    },
    {
      "cell_type": "code",
      "source": [],
      "metadata": {
        "id": "eKeaUtSzIy-e"
      },
      "execution_count": null,
      "outputs": []
    },
    {
      "cell_type": "markdown",
      "metadata": {
        "id": "OwuxHmxllTwN"
      },
      "source": [
        "<div class=\"markdown-google-sans\">\n",
        "\n",
        "## Machine learning\n",
        "</div>\n",
        "\n",
        "Com o Colab, é possível importar um conjunto de dados de imagem, treinar um classificador de imagens dentro dele e avaliar o modelo, tudo com apenas <a href=\"https://colab.research.google.com/github/tensorflow/docs/blob/master/site/en/tutorials/quickstart/beginner.ipynb\">algumas linhas de código</a>. Os notebooks do Colab executam código dos servidores em nuvem do Google. Isso significa que você pode tirar proveito da potência de hardware do Google, como <a href=\"#using-accelerated-hardware\">GPUs e TPUs</a>, independentemente da potência da sua máquina. Você só precisa de um navegador."
      ]
    }
  ],
  "metadata": {
    "colab": {
      "toc_visible": true,
      "provenance": [],
      "include_colab_link": true
    },
    "kernelspec": {
      "display_name": "Python 3",
      "name": "python3"
    }
  },
  "nbformat": 4,
  "nbformat_minor": 0
}
